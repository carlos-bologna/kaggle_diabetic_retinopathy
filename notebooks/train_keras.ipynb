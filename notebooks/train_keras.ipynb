{
 "cells": [
  {
   "cell_type": "markdown",
   "metadata": {
    "colab_type": "text",
    "id": "TqigcTlxwJQe"
   },
   "source": [
    "# Train Diabetic Retinopathy Model"
   ]
  },
  {
   "cell_type": "code",
   "execution_count": null,
   "metadata": {
    "colab": {},
    "colab_type": "code",
    "id": "ODOpH6b7wJQh"
   },
   "outputs": [],
   "source": [
    "base_dir = '../data/'\n",
    "train_dir = base_dir + 'train/'\n",
    "validation_dir = base_dir + 'test/'\n",
    "img_width = 540\n",
    "img_height = 540\n",
    "img_channel = 3"
   ]
  },
  {
   "cell_type": "markdown",
   "metadata": {
    "colab_type": "text",
    "id": "9wqsEsGfwJQo"
   },
   "source": [
    "### Gerando dados artificialmente"
   ]
  },
  {
   "cell_type": "code",
   "execution_count": null,
   "metadata": {
    "colab": {
     "base_uri": "https://localhost:8080/",
     "height": 34
    },
    "colab_type": "code",
    "id": "Kgu83kCmwJQr",
    "outputId": "44d9356c-169e-4410-997e-2beeee519f55"
   },
   "outputs": [],
   "source": [
    "import os\n",
    "import numpy as np\n",
    "import matplotlib.pyplot as plt\n",
    "\n",
    "%matplotlib inline"
   ]
  },
  {
   "cell_type": "markdown",
   "metadata": {
    "colab_type": "text",
    "id": "BRYtUKQxwJRh"
   },
   "source": [
    "### Montando o modelo"
   ]
  },
  {
   "cell_type": "code",
   "execution_count": null,
   "metadata": {
    "colab": {
     "base_uri": "https://localhost:8080/",
     "height": 714
    },
    "colab_type": "code",
    "id": "pX3Pa4tYwJRk",
    "outputId": "9081fbf2-0109-4a62-ac17-6d267f721534"
   },
   "outputs": [],
   "source": [
    "from keras.layers import Input, Conv2D, MaxPooling2D, Flatten, Dropout, Dense\n",
    "from keras.models import Model\n",
    "\n",
    "inputs = Input(shape=(img_height, img_width, img_channel))\n",
    "X =  Conv2D(32, (3, 3), activation='relu')(inputs)\n",
    "X = MaxPooling2D((2, 2))(X)\n",
    "X = Conv2D(64, (3, 3), activation='relu')(X)\n",
    "X = MaxPooling2D((2, 2))(X)\n",
    "X = Conv2D(128, (3, 3), activation='relu')(X)\n",
    "X = MaxPooling2D((2, 2))(X)\n",
    "X = Conv2D(128, (3, 3), activation='relu')(X)\n",
    "X = MaxPooling2D((2, 2))(X)\n",
    "X = Flatten()(X)\n",
    "X = Dropout(0.5)(X)\n",
    "X = Dense(512, activation='relu')(X)\n",
    "outputs = Dense(5, activation='softmax')(X)\n",
    "\n",
    "model = Model(inputs=inputs, outputs=outputs)\n",
    "model.compile(loss='categorical_crossentropy', optimizer='adam', metrics=['accuracy'])\n",
    "model.summary()"
   ]
  },
  {
   "cell_type": "markdown",
   "metadata": {
    "colab_type": "text",
    "id": "GWPxl0OJwJRr"
   },
   "source": [
    "### Processamento de dados"
   ]
  },
  {
   "cell_type": "code",
   "execution_count": null,
   "metadata": {
    "colab": {},
    "colab_type": "code",
    "id": "nwX3C0l0wJRs"
   },
   "outputs": [],
   "source": [
    "from keras_preprocessing.image import ImageDataGenerator\n",
    "\n",
    "train_datagen = ImageDataGenerator(\n",
    "    rescale=1./255,\n",
    "    rotation_range=40,\n",
    "    width_shift_range=0.2,\n",
    "    height_shift_range=0.2,\n",
    "    shear_range=0.2,\n",
    "    zoom_range=0.2,\n",
    "    horizontal_flip=True)\n",
    "\n",
    "validation_datagen = ImageDataGenerator(\n",
    "    rescale=1./255)"
   ]
  },
  {
   "cell_type": "code",
   "execution_count": null,
   "metadata": {
    "colab": {
     "base_uri": "https://localhost:8080/",
     "height": 34
    },
    "colab_type": "code",
    "id": "tfG_-QEvwJRy",
    "outputId": "22607fb1-3070-4985-97b5-34ca31bde315"
   },
   "outputs": [],
   "source": [
    "train_generator = train_datagen.flow_from_directory(\n",
    "    train_dir,\n",
    "    target_size=(img_width, img_height),\n",
    "    batch_size=100,\n",
    "    class_mode='categorical')"
   ]
  },
  {
   "cell_type": "code",
   "execution_count": null,
   "metadata": {
    "colab": {
     "base_uri": "https://localhost:8080/",
     "height": 34
    },
    "colab_type": "code",
    "id": "89hqW16XwJR3",
    "outputId": "6a10e0c2-28bd-4c1e-b81f-6eb66610becb"
   },
   "outputs": [],
   "source": [
    "validation_generator = validation_datagen.flow_from_directory(\n",
    "    validation_dir,\n",
    "    target_size=(img_width, img_height),\n",
    "    batch_size=100,\n",
    "    class_mode='categorical')"
   ]
  },
  {
   "cell_type": "code",
   "execution_count": null,
   "metadata": {
    "colab": {},
    "colab_type": "code",
    "id": "ymJ-vqtmjIX6"
   },
   "outputs": [],
   "source": [
    "data = next(iter(train_generator))"
   ]
  },
  {
   "cell_type": "markdown",
   "metadata": {},
   "source": [
    "# Check Class Weight"
   ]
  },
  {
   "cell_type": "code",
   "execution_count": null,
   "metadata": {},
   "outputs": [],
   "source": [
    "import os\n",
    "\n",
    "len_0 = len(os.listdir(train_dir + '0'))\n",
    "len_1 = len(os.listdir(train_dir + '1'))\n",
    "len_2 = len(os.listdir(train_dir + '2'))\n",
    "len_3 = len(os.listdir(train_dir + '3'))\n",
    "len_4 = len(os.listdir(train_dir + '4'))\n",
    "\n",
    "len_tot = len_0 + len_1 + len_2 + len_3 + len_4\n",
    "\n",
    "w0 = len_0 * 1./ len_tot\n",
    "w1 = len_1 * 1./ len_tot\n",
    "w2 = len_2 * 1./ len_tot\n",
    "w3 = len_3 * 1./ len_tot\n",
    "w4 = len_4 * 1./ len_tot\n",
    "\n",
    "#class_weight = {0: w0, 1: w1, 2: w2, 3: w3, 4: w4}\n",
    "class_weight = {0: 0.46182373, \n",
    "                1: 1.33303985, \n",
    "                2: 0.62618633, \n",
    "                3: 3.90590631, \n",
    "                4: 4.31936937}"
   ]
  },
  {
   "cell_type": "code",
   "execution_count": null,
   "metadata": {
    "colab": {},
    "colab_type": "code",
    "id": "UciIZ3n70a3i"
   },
   "outputs": [],
   "source": [
    "from keras.callbacks import EarlyStopping, ModelCheckpoint\n",
    "\n",
    "earlystopper = EarlyStopping(patience=20, verbose=1)\n",
    "\n",
    "model_path = os.path.join('models', 'diabetic_retinopathy_model.h5') \n",
    "\n",
    "checkpointer = ModelCheckpoint(model_path, verbose=1, save_best_only=True)"
   ]
  },
  {
   "cell_type": "code",
   "execution_count": null,
   "metadata": {
    "colab": {
     "base_uri": "https://localhost:8080/",
     "height": 12413
    },
    "colab_type": "code",
    "id": "jfqZJeubwJR8",
    "outputId": "10cc53b1-7054-4b5f-85e2-538e1e101d9f"
   },
   "outputs": [],
   "source": [
    "from keras import callbacks\n",
    "from keras.callbacks import TensorBoard\n",
    "import time\n",
    "\n",
    "STEP_SIZE_TRAIN=train_generator.n//train_generator.batch_size\n",
    "STEP_SIZE_VALID=validation_generator.n//validation_generator.batch_size\n",
    "\n",
    "history = model.fit_generator(\n",
    "    train_generator,\n",
    "    steps_per_epoch=STEP_SIZE_TRAIN,\n",
    "    epochs=200, \n",
    "    validation_data=validation_generator,\n",
    "    validation_steps=STEP_SIZE_VALID,\n",
    "    class_weight=class_weight,\n",
    "    callbacks=[earlystopper, checkpointer])\n"
   ]
  },
  {
   "cell_type": "markdown",
   "metadata": {
    "colab_type": "text",
    "id": "VDKTVhqCocTg"
   },
   "source": [
    "# Plot Results"
   ]
  },
  {
   "cell_type": "code",
   "execution_count": null,
   "metadata": {
    "colab": {
     "base_uri": "https://localhost:8080/",
     "height": 237
    },
    "colab_type": "code",
    "id": "juQUK9DUoN5t",
    "outputId": "58be386d-f0cd-484d-8019-27c954d393a5"
   },
   "outputs": [],
   "source": [
    "acc = history.history['acc']\n",
    "val_acc = history.history['val_acc']\n",
    "loss = history.history['loss']\n",
    "val_loss = history.history['val_loss']\n",
    "\n",
    "epochs = range(len(acc))\n",
    "\n",
    "plt.plot(epochs, acc, 'bo', label='Training acc')\n",
    "plt.plot(epochs, val_acc, 'b', label='Validation acc')\n",
    "plt.title('Training and validation accuracy')\n",
    "plt.legend()\n",
    "\n",
    "plt.figure()\n",
    "\n",
    "plt.plot(epochs, loss, 'bo', label='Training loss')\n",
    "plt.plot(epochs, val_loss, 'b', label='Validation loss')\n",
    "plt.title('Training and validation loss')\n",
    "plt.legend()\n",
    "\n",
    "plt.show()"
   ]
  },
  {
   "cell_type": "markdown",
   "metadata": {
    "colab_type": "text",
    "id": "M9q4KQCTwJSV"
   },
   "source": [
    "# Carregando o modelo\n",
    "- Este modelo leva em torno de 10+ minutos para ser treinado em uma 1060 / 980ti\n",
    "- Para a aula vamos simplesmente carregar o modelo salvo (pesos e vieses)"
   ]
  },
  {
   "cell_type": "code",
   "execution_count": null,
   "metadata": {
    "colab": {},
    "colab_type": "code",
    "id": "AT0tzYllwJSW"
   },
   "outputs": [],
   "source": [
    "from keras import models\n",
    "\n",
    "model_path = os.path.join('/gdrive/My Drive/Colab Notebooks/pneumonia/', 'models', 'pneumonia_from_scratch_data_augmented.h5') \n",
    "\n",
    "model = models.load_model(model_path)"
   ]
  },
  {
   "cell_type": "markdown",
   "metadata": {
    "colab_type": "text",
    "id": "ddbiba4KwJSr"
   },
   "source": [
    "# Predict Test Base"
   ]
  },
  {
   "cell_type": "code",
   "execution_count": null,
   "metadata": {
    "colab": {},
    "colab_type": "code",
    "id": "G4YW8TkiwJSu"
   },
   "outputs": [],
   "source": [
    "test_datagen = ImageDataGenerator(rescale=1./255)"
   ]
  },
  {
   "cell_type": "code",
   "execution_count": null,
   "metadata": {
    "colab": {
     "base_uri": "https://localhost:8080/",
     "height": 34
    },
    "colab_type": "code",
    "id": "y-DuS6yiwJSw",
    "outputId": "901437c4-bb6d-4641-e27b-eb3c2d4801c4"
   },
   "outputs": [],
   "source": [
    "batch_size = 1000\n",
    "\n",
    "test_generator = test_datagen.flow_from_directory(\n",
    "    validation_dir,\n",
    "    target_size=(img_width, img_height),\n",
    "    color_mode='grayscale',\n",
    "    batch_size=batch_size,\n",
    "    class_mode='categorical')\n",
    "\n",
    "valid_X, valid_Y = next(test_generator)"
   ]
  },
  {
   "cell_type": "code",
   "execution_count": null,
   "metadata": {
    "colab": {},
    "colab_type": "code",
    "id": "iY6BGCN2xF7j"
   },
   "outputs": [],
   "source": [
    "#test_loss, test_acc = model.evaluate(next(test_generator))"
   ]
  },
  {
   "cell_type": "code",
   "execution_count": null,
   "metadata": {
    "colab": {
     "base_uri": "https://localhost:8080/",
     "height": 34
    },
    "colab_type": "code",
    "id": "ud4ub2zygpYR",
    "outputId": "715e6883-3d00-4c5e-9e77-34851fbab523"
   },
   "outputs": [],
   "source": [
    "pred_Y = model.predict(valid_X, batch_size = test_generator.n // test_generator.batch_size, verbose = True)"
   ]
  },
  {
   "cell_type": "code",
   "execution_count": null,
   "metadata": {
    "colab": {
     "base_uri": "https://localhost:8080/",
     "height": 139
    },
    "colab_type": "code",
    "id": "Ytwpgt4sZw_l",
    "outputId": "29a942e2-0776-4cb7-d169-6053d1d073d9"
   },
   "outputs": [],
   "source": [
    "pred_Y"
   ]
  },
  {
   "cell_type": "markdown",
   "metadata": {
    "colab_type": "text",
    "id": "X9fpV7P0iV0R"
   },
   "source": [
    "# Metrics"
   ]
  },
  {
   "cell_type": "code",
   "execution_count": null,
   "metadata": {
    "colab": {
     "base_uri": "https://localhost:8080/",
     "height": 410
    },
    "colab_type": "code",
    "id": "kePdWjiTgpbO",
    "outputId": "80af4f71-7795-4bc2-b6c3-52737bcd8911"
   },
   "outputs": [],
   "source": [
    "from sklearn.metrics import classification_report, confusion_matrix\n",
    "plt.matshow(confusion_matrix(np.argmax(valid_Y, -1), np.argmax(pred_Y,-1)))\n",
    "print(classification_report(np.argmax(valid_Y, -1), \n",
    "                            np.argmax(pred_Y,-1)))"
   ]
  },
  {
   "cell_type": "code",
   "execution_count": null,
   "metadata": {
    "colab": {
     "base_uri": "https://localhost:8080/",
     "height": 69
    },
    "colab_type": "code",
    "id": "hEngD5s_gpVc",
    "outputId": "445e83d4-abf8-4d1e-990d-dd372a4eebc4"
   },
   "outputs": [],
   "source": [
    "confusion_matrix(np.argmax(valid_Y, -1), np.argmax(pred_Y,-1))"
   ]
  },
  {
   "cell_type": "code",
   "execution_count": null,
   "metadata": {
    "colab": {
     "base_uri": "https://localhost:8080/",
     "height": 726
    },
    "colab_type": "code",
    "id": "X6PsMR8JqGLD",
    "outputId": "b07f3065-7d23-4fbd-9229-9dda5c37572e"
   },
   "outputs": [],
   "source": [
    "from sklearn.metrics import roc_curve, roc_auc_score\n",
    "fpr, tpr, _ = roc_curve(np.argmax(valid_Y,-1)==0, pred_Y[:,0])\n",
    "fig, ax1 = plt.subplots(1,1, figsize = (5, 5), dpi = 150)\n",
    "ax1.plot(fpr, tpr, 'b.-', label = 'Model (AUC:%2.2f)' % roc_auc_score(np.argmax(valid_Y,-1)==0, pred_Y[:,0]))\n",
    "ax1.plot(fpr, fpr, 'k-', label = 'Random Guessing')\n",
    "ax1.legend(loc = 4)\n",
    "ax1.set_xlabel('False Positive Rate')\n",
    "ax1.set_ylabel('True Positive Rate');\n",
    "ax1.set_title('Lung Opacity ROC Curve')"
   ]
  }
 ],
 "metadata": {
  "accelerator": "GPU",
  "colab": {
   "name": "2_From_Scratch_Data_Augmented.ipynb",
   "provenance": [],
   "toc_visible": true,
   "version": "0.3.2"
  },
  "kernelspec": {
   "display_name": "Python 2",
   "language": "python",
   "name": "python2"
  },
  "language_info": {
   "codemirror_mode": {
    "name": "ipython",
    "version": 2
   },
   "file_extension": ".py",
   "mimetype": "text/x-python",
   "name": "python",
   "nbconvert_exporter": "python",
   "pygments_lexer": "ipython2",
   "version": "2.7.15"
  }
 },
 "nbformat": 4,
 "nbformat_minor": 1
}
