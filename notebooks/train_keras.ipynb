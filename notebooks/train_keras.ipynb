{
 "cells": [
  {
   "cell_type": "markdown",
   "metadata": {
    "colab_type": "text",
    "id": "TqigcTlxwJQe"
   },
   "source": [
    "# Train Diabetic Retinopathy Model"
   ]
  },
  {
   "cell_type": "code",
   "execution_count": 1,
   "metadata": {
    "colab": {},
    "colab_type": "code",
    "id": "ODOpH6b7wJQh"
   },
   "outputs": [],
   "source": [
    "import os\n",
    "import numpy as np\n",
    "import matplotlib.pyplot as plt\n",
    "\n",
    "%matplotlib inline\n",
    "\n",
    "base_dir = '../data/'\n",
    "train_dir = base_dir + 'small_train/'\n",
    "validation_dir = base_dir + 'small_test/'\n",
    "img_width = 540\n",
    "img_height = 540\n",
    "img_channel = 3"
   ]
  },
  {
   "cell_type": "markdown",
   "metadata": {
    "colab_type": "text",
    "id": "BRYtUKQxwJRh"
   },
   "source": [
    "### Montando o modelo"
   ]
  },
  {
   "cell_type": "code",
   "execution_count": 2,
   "metadata": {
    "colab": {
     "base_uri": "https://localhost:8080/",
     "height": 714
    },
    "colab_type": "code",
    "id": "pX3Pa4tYwJRk",
    "outputId": "9081fbf2-0109-4a62-ac17-6d267f721534"
   },
   "outputs": [
    {
     "name": "stderr",
     "output_type": "stream",
     "text": [
      "Using TensorFlow backend.\n"
     ]
    },
    {
     "name": "stdout",
     "output_type": "stream",
     "text": [
      "_________________________________________________________________\n",
      "Layer (type)                 Output Shape              Param #   \n",
      "=================================================================\n",
      "input_1 (InputLayer)         (None, 540, 540, 3)       0         \n",
      "_________________________________________________________________\n",
      "conv2d_1 (Conv2D)            (None, 538, 538, 32)      896       \n",
      "_________________________________________________________________\n",
      "conv2d_2 (Conv2D)            (None, 536, 536, 64)      18496     \n",
      "_________________________________________________________________\n",
      "max_pooling2d_1 (MaxPooling2 (None, 268, 268, 64)      0         \n",
      "_________________________________________________________________\n",
      "conv2d_3 (Conv2D)            (None, 266, 266, 96)      55392     \n",
      "_________________________________________________________________\n",
      "conv2d_4 (Conv2D)            (None, 264, 264, 128)     110720    \n",
      "_________________________________________________________________\n",
      "max_pooling2d_2 (MaxPooling2 (None, 132, 132, 128)     0         \n",
      "_________________________________________________________________\n",
      "conv2d_5 (Conv2D)            (None, 130, 130, 160)     184480    \n",
      "_________________________________________________________________\n",
      "conv2d_6 (Conv2D)            (None, 128, 128, 192)     276672    \n",
      "_________________________________________________________________\n",
      "max_pooling2d_3 (MaxPooling2 (None, 64, 64, 192)       0         \n",
      "_________________________________________________________________\n",
      "conv2d_7 (Conv2D)            (None, 62, 62, 224)       387296    \n",
      "_________________________________________________________________\n",
      "conv2d_8 (Conv2D)            (None, 60, 60, 256)       516352    \n",
      "_________________________________________________________________\n",
      "max_pooling2d_4 (MaxPooling2 (None, 30, 30, 256)       0         \n",
      "_________________________________________________________________\n",
      "conv2d_9 (Conv2D)            (None, 28, 28, 228)       525540    \n",
      "_________________________________________________________________\n",
      "max_pooling2d_5 (MaxPooling2 (None, 14, 14, 228)       0         \n",
      "_________________________________________________________________\n",
      "flatten_1 (Flatten)          (None, 44688)             0         \n",
      "_________________________________________________________________\n",
      "dropout_1 (Dropout)          (None, 44688)             0         \n",
      "_________________________________________________________________\n",
      "dense_1 (Dense)              (None, 320)               14300480  \n",
      "_________________________________________________________________\n",
      "dense_2 (Dense)              (None, 352)               112992    \n",
      "_________________________________________________________________\n",
      "dense_3 (Dense)              (None, 5)                 1765      \n",
      "=================================================================\n",
      "Total params: 16,491,081\n",
      "Trainable params: 16,491,081\n",
      "Non-trainable params: 0\n",
      "_________________________________________________________________\n"
     ]
    }
   ],
   "source": [
    "from keras.layers import Input, Conv2D, MaxPooling2D, Flatten, Dropout, Dense\n",
    "from keras.models import Model\n",
    "from keras.optimizers import Adam\n",
    "\n",
    "inputs = Input(shape=(img_height, img_width, img_channel))\n",
    "\n",
    "X = Conv2D(32, (3, 3), activation='relu')(inputs)\n",
    "X = Conv2D(64, (3, 3), activation='relu')(X)\n",
    "X = MaxPooling2D((2, 2))(X)\n",
    "\n",
    "X = Conv2D(96, (3, 3), activation='relu')(X)\n",
    "X = Conv2D(128, (3, 3), activation='relu')(X)\n",
    "X = MaxPooling2D((2, 2))(X)\n",
    "\n",
    "X = Conv2D(160, (3, 3), activation='relu')(X)\n",
    "X = Conv2D(192, (3, 3), activation='relu')(X)\n",
    "X = MaxPooling2D((2, 2))(X)\n",
    "\n",
    "X = Conv2D(224, (3, 3), activation='relu')(X)\n",
    "X = Conv2D(256, (3, 3), activation='relu')(X)\n",
    "X = MaxPooling2D((2, 2))(X)\n",
    "\n",
    "X = Conv2D(228, (3, 3), activation='relu')(X)\n",
    "X = MaxPooling2D((2, 2))(X)\n",
    "\n",
    "X = Flatten()(X)\n",
    "X = Dropout(0.1)(X)\n",
    "X = Dense(320, activation='relu')(X)\n",
    "X = Dense(352, activation='relu')(X)\n",
    "outputs = Dense(5, activation='softmax')(X)\n",
    "\n",
    "model = Model(inputs=inputs, outputs=outputs)\n",
    "#adam = Adam(lr=0.000001, beta_1=0.9, beta_2=0.999, epsilon=None, decay=0.0, amsgrad=False)\n",
    "#adam = Adam(lr=0.00001, beta_1=0.9, beta_2=0.999, epsilon=None, decay=0.0, amsgrad=False)\n",
    "#adam = Adam(lr=0.00002, beta_1=0.9, beta_2=0.999, epsilon=None, decay=0.0, amsgrad=False)\n",
    "#adam = Adam(lr=0.00005, beta_1=0.9, beta_2=0.999, epsilon=None, decay=1e-4, amsgrad=False)\n",
    "adam = Adam(lr=0.00005, beta_1=0.9, beta_2=0.999, epsilon=None, decay=1e-6, amsgrad=False)\n",
    "\n",
    "model.compile(loss='categorical_crossentropy', optimizer=adam, metrics=['accuracy'])\n",
    "model.summary()"
   ]
  },
  {
   "cell_type": "markdown",
   "metadata": {},
   "source": [
    "### Carregando Modelo Pré Treinado\n",
    "\n",
    "Pule o código abaixo se desejar treinar o modelo do zero."
   ]
  },
  {
   "cell_type": "code",
   "execution_count": 3,
   "metadata": {},
   "outputs": [],
   "source": [
    "import os\n",
    "from keras import models\n",
    "\n",
    "#model_path = os.path.join('../models', 'diabetic_retinopathy_model.h5') \n",
    "\n",
    "#model = models.load_model(model_path)"
   ]
  },
  {
   "cell_type": "markdown",
   "metadata": {
    "colab_type": "text",
    "id": "GWPxl0OJwJRr"
   },
   "source": [
    "### Processamento de dados"
   ]
  },
  {
   "cell_type": "code",
   "execution_count": 4,
   "metadata": {},
   "outputs": [],
   "source": [
    "mean_0 = 104.183330781893\n",
    "mean_1 = 106.9134984430727\n",
    "mean_2 = 111.30260913923182\n",
    "\n",
    "std_0 = 4.2141225097\n",
    "std_1 = 4.49451983235\n",
    "std_2 = 4.5237623716\n",
    "\n",
    "def z_score(image):\n",
    "    image = np.array(image)\n",
    "    image[:,:,0] = np.subtract(image[:,:,0], [mean_0]) / std_0\n",
    "    image[:,:,1] = np.subtract(image[:,:,1], [mean_1]) / std_1\n",
    "    image[:,:,2] = np.subtract(image[:,:,2], [mean_2]) / std_2\n",
    "    return image\n"
   ]
  },
  {
   "cell_type": "code",
   "execution_count": 5,
   "metadata": {
    "colab": {},
    "colab_type": "code",
    "id": "nwX3C0l0wJRs"
   },
   "outputs": [],
   "source": [
    "from keras_preprocessing.image import ImageDataGenerator\n",
    "\n",
    "#train_datagen = ImageDataGenerator(\n",
    "#    rescale=1./255,\n",
    "#    rotation_range=360,\n",
    "#    zoom_range=[1 / 1.15, 1.15],\n",
    "#    horizontal_flip=True,\n",
    "#    vertical_flip=True)\n",
    "\n",
    "#validation_datagen = ImageDataGenerator(\n",
    "#    rescale=1./255)\n",
    "\n",
    "train_datagen = ImageDataGenerator(\n",
    "    preprocessing_function=z_score,\n",
    "    rotation_range=360,\n",
    "    zoom_range=[1 / 1.15, 1.15],\n",
    "    horizontal_flip=True,\n",
    "    vertical_flip=True)\n",
    "\n",
    "validation_datagen = ImageDataGenerator(\n",
    "    preprocessing_function=z_score)\n"
   ]
  },
  {
   "cell_type": "code",
   "execution_count": 6,
   "metadata": {
    "colab": {
     "base_uri": "https://localhost:8080/",
     "height": 34
    },
    "colab_type": "code",
    "id": "tfG_-QEvwJRy",
    "outputId": "22607fb1-3070-4985-97b5-34ca31bde315"
   },
   "outputs": [
    {
     "name": "stdout",
     "output_type": "stream",
     "text": [
      "Found 1000 images belonging to 5 classes.\n"
     ]
    }
   ],
   "source": [
    "train_generator = train_datagen.flow_from_directory(\n",
    "    train_dir,\n",
    "    target_size=(img_width, img_height),\n",
    "    shuffle=True,\n",
    "    batch_size=25,\n",
    "    class_mode='categorical')"
   ]
  },
  {
   "cell_type": "code",
   "execution_count": 7,
   "metadata": {
    "colab": {
     "base_uri": "https://localhost:8080/",
     "height": 34
    },
    "colab_type": "code",
    "id": "89hqW16XwJR3",
    "outputId": "6a10e0c2-28bd-4c1e-b81f-6eb66610becb"
   },
   "outputs": [
    {
     "name": "stdout",
     "output_type": "stream",
     "text": [
      "Found 1000 images belonging to 5 classes.\n"
     ]
    }
   ],
   "source": [
    "validation_generator = validation_datagen.flow_from_directory(\n",
    "    validation_dir,\n",
    "    target_size=(img_width, img_height),\n",
    "    shuffle=True,\n",
    "    batch_size=25,\n",
    "    class_mode='categorical')"
   ]
  },
  {
   "cell_type": "code",
   "execution_count": 8,
   "metadata": {
    "colab": {},
    "colab_type": "code",
    "id": "ymJ-vqtmjIX6"
   },
   "outputs": [],
   "source": [
    "#data = next(iter(train_generator))"
   ]
  },
  {
   "cell_type": "markdown",
   "metadata": {},
   "source": [
    "# Check Class Weight"
   ]
  },
  {
   "cell_type": "code",
   "execution_count": 9,
   "metadata": {},
   "outputs": [],
   "source": [
    "#import os\n",
    "#\n",
    "#len_0 = len(os.listdir(train_dir + '0'))\n",
    "#len_1 = len(os.listdir(train_dir + '1'))\n",
    "#len_2 = len(os.listdir(train_dir + '2'))\n",
    "#len_3 = len(os.listdir(train_dir + '3'))\n",
    "#len_4 = len(os.listdir(train_dir + '4'))\n",
    "#\n",
    "#len_tot = len_0 + len_1 + len_2 + len_3 + len_4\n",
    "#\n",
    "#w0 = len_0 * 1./ len_tot\n",
    "#w1 = len_1 * 1./ len_tot\n",
    "#w2 = len_2 * 1./ len_tot\n",
    "#w3 = len_3 * 1./ len_tot\n",
    "#w4 = len_4 * 1./ len_tot\n",
    "\n",
    "#class_weight = {0: w0, 1: w1, 2: w2, 3: w3, 4: w4}\n",
    "class_weight = {0: 0.46182373, \n",
    "                1: 1.33303985, \n",
    "                2: 0.62618633, \n",
    "                3: 3.90590631, \n",
    "                4: 4.31936937}"
   ]
  },
  {
   "cell_type": "code",
   "execution_count": 10,
   "metadata": {
    "colab": {},
    "colab_type": "code",
    "id": "UciIZ3n70a3i"
   },
   "outputs": [],
   "source": [
    "from keras.callbacks import EarlyStopping, ModelCheckpoint, TensorBoard, LearningRateScheduler\n",
    "import time, math\n",
    "\n",
    "# learning rate schedule\n",
    "def step_decay(epoch):\n",
    "    initial_lrate = 0.003\n",
    "    drop = 0.1\n",
    "    epochs_drop = 10.0\n",
    "    lrate = initial_lrate * math.pow(drop, math.floor((1+epoch)/epochs_drop))\n",
    "    return lrate\n",
    "\n",
    "lrate = LearningRateScheduler(step_decay)\n",
    "\n",
    "earlystopper = EarlyStopping(patience=10, verbose=1)\n",
    "\n",
    "model_path = os.path.join('../models', 'diabetic_retinopathy_model.h5') \n",
    "\n",
    "checkpointer = ModelCheckpoint(model_path, verbose=1, save_best_only=True)\n",
    "\n",
    "tb = TensorBoard(log_dir='../logs/tb' + str(np.round(time.time(),0)), \n",
    "                 histogram_freq=0, batch_size=100,\n",
    "                 write_graph=True)\n",
    "\n",
    "callbacks_list = [earlystopper, checkpointer, tb]"
   ]
  },
  {
   "cell_type": "markdown",
   "metadata": {},
   "source": [
    "http://localhost:6006 to Tensorboard"
   ]
  },
  {
   "cell_type": "code",
   "execution_count": 11,
   "metadata": {
    "colab": {
     "base_uri": "https://localhost:8080/",
     "height": 12413
    },
    "colab_type": "code",
    "id": "jfqZJeubwJR8",
    "outputId": "10cc53b1-7054-4b5f-85e2-538e1e101d9f"
   },
   "outputs": [
    {
     "name": "stdout",
     "output_type": "stream",
     "text": [
      "Epoch 1/200\n",
      "40/40 [==============================] - 147s 4s/step - loss: 1.6222 - acc: 0.1890 - val_loss: 1.6118 - val_acc: 0.2250\n",
      "\n",
      "Epoch 00001: val_loss improved from inf to 1.61184, saving model to ../models/diabetic_retinopathy_model.h5\n",
      "Epoch 2/200\n",
      "40/40 [==============================] - 130s 3s/step - loss: 1.6091 - acc: 0.2100 - val_loss: 1.5988 - val_acc: 0.2630\n",
      "\n",
      "Epoch 00002: val_loss improved from 1.61184 to 1.59879, saving model to ../models/diabetic_retinopathy_model.h5\n",
      "Epoch 3/200\n",
      "40/40 [==============================] - 130s 3s/step - loss: 1.5984 - acc: 0.2310 - val_loss: 1.5856 - val_acc: 0.2450\n",
      "\n",
      "Epoch 00003: val_loss improved from 1.59879 to 1.58563, saving model to ../models/diabetic_retinopathy_model.h5\n",
      "Epoch 4/200\n",
      "40/40 [==============================] - 130s 3s/step - loss: 1.5881 - acc: 0.2510 - val_loss: 1.5802 - val_acc: 0.2520\n",
      "\n",
      "Epoch 00004: val_loss improved from 1.58563 to 1.58025, saving model to ../models/diabetic_retinopathy_model.h5\n",
      "Epoch 5/200\n",
      "40/40 [==============================] - 130s 3s/step - loss: 1.5742 - acc: 0.2700 - val_loss: 1.5895 - val_acc: 0.2530\n",
      "\n",
      "Epoch 00005: val_loss did not improve from 1.58025\n",
      "Epoch 6/200\n",
      "40/40 [==============================] - 130s 3s/step - loss: 1.5684 - acc: 0.2510 - val_loss: 1.5780 - val_acc: 0.2660\n",
      "\n",
      "Epoch 00006: val_loss improved from 1.58025 to 1.57804, saving model to ../models/diabetic_retinopathy_model.h5\n",
      "Epoch 7/200\n",
      "40/40 [==============================] - 130s 3s/step - loss: 1.5501 - acc: 0.2780 - val_loss: 1.5710 - val_acc: 0.2710\n",
      "\n",
      "Epoch 00007: val_loss improved from 1.57804 to 1.57096, saving model to ../models/diabetic_retinopathy_model.h5\n",
      "Epoch 8/200\n",
      "40/40 [==============================] - 130s 3s/step - loss: 1.5488 - acc: 0.2890 - val_loss: 1.5778 - val_acc: 0.2840\n",
      "\n",
      "Epoch 00008: val_loss did not improve from 1.57096\n",
      "Epoch 9/200\n",
      "40/40 [==============================] - 130s 3s/step - loss: 1.5356 - acc: 0.2840 - val_loss: 1.5693 - val_acc: 0.2890\n",
      "\n",
      "Epoch 00009: val_loss improved from 1.57096 to 1.56927, saving model to ../models/diabetic_retinopathy_model.h5\n",
      "Epoch 10/200\n",
      "40/40 [==============================] - 130s 3s/step - loss: 1.5353 - acc: 0.2860 - val_loss: 1.5494 - val_acc: 0.2850\n",
      "\n",
      "Epoch 00010: val_loss improved from 1.56927 to 1.54945, saving model to ../models/diabetic_retinopathy_model.h5\n",
      "Epoch 11/200\n",
      "40/40 [==============================] - 130s 3s/step - loss: 1.5267 - acc: 0.2940 - val_loss: 1.5489 - val_acc: 0.2770\n",
      "\n",
      "Epoch 00011: val_loss improved from 1.54945 to 1.54888, saving model to ../models/diabetic_retinopathy_model.h5\n",
      "Epoch 12/200\n",
      "40/40 [==============================] - 130s 3s/step - loss: 1.5153 - acc: 0.3140 - val_loss: 1.5664 - val_acc: 0.2830\n",
      "\n",
      "Epoch 00012: val_loss did not improve from 1.54888\n",
      "Epoch 13/200\n",
      "40/40 [==============================] - 130s 3s/step - loss: 1.5258 - acc: 0.3050 - val_loss: 1.5490 - val_acc: 0.2780\n",
      "\n",
      "Epoch 00013: val_loss did not improve from 1.54888\n",
      "Epoch 14/200\n",
      "40/40 [==============================] - 130s 3s/step - loss: 1.5193 - acc: 0.3240 - val_loss: 1.5461 - val_acc: 0.2850\n",
      "\n",
      "Epoch 00014: val_loss improved from 1.54888 to 1.54609, saving model to ../models/diabetic_retinopathy_model.h5\n",
      "Epoch 15/200\n",
      "40/40 [==============================] - 130s 3s/step - loss: 1.5146 - acc: 0.3080 - val_loss: 1.6329 - val_acc: 0.2810\n",
      "\n",
      "Epoch 00015: val_loss did not improve from 1.54609\n",
      "Epoch 16/200\n",
      "40/40 [==============================] - 130s 3s/step - loss: 1.5027 - acc: 0.3190 - val_loss: 1.5678 - val_acc: 0.2730\n",
      "\n",
      "Epoch 00016: val_loss did not improve from 1.54609\n",
      "Epoch 17/200\n",
      "40/40 [==============================] - 130s 3s/step - loss: 1.4984 - acc: 0.3110 - val_loss: 1.5460 - val_acc: 0.2860\n",
      "\n",
      "Epoch 00017: val_loss improved from 1.54609 to 1.54603, saving model to ../models/diabetic_retinopathy_model.h5\n",
      "Epoch 18/200\n",
      "40/40 [==============================] - 130s 3s/step - loss: 1.5107 - acc: 0.3020 - val_loss: 1.5584 - val_acc: 0.2760\n",
      "\n",
      "Epoch 00018: val_loss did not improve from 1.54603\n",
      "Epoch 19/200\n",
      "40/40 [==============================] - 130s 3s/step - loss: 1.4873 - acc: 0.3130 - val_loss: 1.5456 - val_acc: 0.3020\n",
      "\n",
      "Epoch 00019: val_loss improved from 1.54603 to 1.54562, saving model to ../models/diabetic_retinopathy_model.h5\n",
      "Epoch 20/200\n",
      "40/40 [==============================] - 130s 3s/step - loss: 1.4890 - acc: 0.3330 - val_loss: 1.5382 - val_acc: 0.2830\n",
      "\n",
      "Epoch 00020: val_loss improved from 1.54562 to 1.53815, saving model to ../models/diabetic_retinopathy_model.h5\n",
      "Epoch 21/200\n",
      "40/40 [==============================] - 130s 3s/step - loss: 1.4854 - acc: 0.3340 - val_loss: 1.5695 - val_acc: 0.2750\n",
      "\n",
      "Epoch 00021: val_loss did not improve from 1.53815\n",
      "Epoch 22/200\n",
      "40/40 [==============================] - 130s 3s/step - loss: 1.4773 - acc: 0.3520 - val_loss: 1.5362 - val_acc: 0.2930\n",
      "\n",
      "Epoch 00022: val_loss improved from 1.53815 to 1.53616, saving model to ../models/diabetic_retinopathy_model.h5\n",
      "Epoch 23/200\n",
      "40/40 [==============================] - 130s 3s/step - loss: 1.4647 - acc: 0.3480 - val_loss: 1.5619 - val_acc: 0.2780\n",
      "\n",
      "Epoch 00023: val_loss did not improve from 1.53616\n",
      "Epoch 24/200\n",
      "40/40 [==============================] - 130s 3s/step - loss: 1.4630 - acc: 0.3290 - val_loss: 1.5343 - val_acc: 0.2870\n",
      "\n",
      "Epoch 00024: val_loss improved from 1.53616 to 1.53433, saving model to ../models/diabetic_retinopathy_model.h5\n",
      "Epoch 25/200\n",
      "40/40 [==============================] - 130s 3s/step - loss: 1.4518 - acc: 0.3490 - val_loss: 1.5188 - val_acc: 0.2950\n",
      "\n",
      "Epoch 00025: val_loss improved from 1.53433 to 1.51884, saving model to ../models/diabetic_retinopathy_model.h5\n",
      "Epoch 26/200\n",
      "40/40 [==============================] - 130s 3s/step - loss: 1.4646 - acc: 0.3410 - val_loss: 1.5468 - val_acc: 0.3050\n",
      "\n",
      "Epoch 00026: val_loss did not improve from 1.51884\n",
      "Epoch 27/200\n",
      "40/40 [==============================] - 130s 3s/step - loss: 1.4374 - acc: 0.3630 - val_loss: 1.5253 - val_acc: 0.3030\n",
      "\n",
      "Epoch 00027: val_loss did not improve from 1.51884\n",
      "Epoch 28/200\n",
      "40/40 [==============================] - 130s 3s/step - loss: 1.4163 - acc: 0.3710 - val_loss: 1.5195 - val_acc: 0.3120\n",
      "\n",
      "Epoch 00028: val_loss did not improve from 1.51884\n",
      "Epoch 29/200\n",
      "40/40 [==============================] - 130s 3s/step - loss: 1.4341 - acc: 0.3670 - val_loss: 1.5260 - val_acc: 0.3140\n",
      "\n",
      "Epoch 00029: val_loss did not improve from 1.51884\n",
      "Epoch 30/200\n",
      "40/40 [==============================] - 130s 3s/step - loss: 1.4297 - acc: 0.3820 - val_loss: 1.5166 - val_acc: 0.3200\n",
      "\n",
      "Epoch 00030: val_loss improved from 1.51884 to 1.51664, saving model to ../models/diabetic_retinopathy_model.h5\n",
      "Epoch 31/200\n",
      "40/40 [==============================] - 130s 3s/step - loss: 1.3935 - acc: 0.3530 - val_loss: 1.5181 - val_acc: 0.3210\n",
      "\n",
      "Epoch 00031: val_loss did not improve from 1.51664\n",
      "Epoch 32/200\n",
      "40/40 [==============================] - 130s 3s/step - loss: 1.3794 - acc: 0.3800 - val_loss: 1.4801 - val_acc: 0.3500\n",
      "\n",
      "Epoch 00032: val_loss improved from 1.51664 to 1.48013, saving model to ../models/diabetic_retinopathy_model.h5\n",
      "Epoch 33/200\n",
      "40/40 [==============================] - 130s 3s/step - loss: 1.3704 - acc: 0.3790 - val_loss: 1.6566 - val_acc: 0.2640\n",
      "\n",
      "Epoch 00033: val_loss did not improve from 1.48013\n",
      "Epoch 34/200\n",
      "40/40 [==============================] - 130s 3s/step - loss: 1.4021 - acc: 0.3460 - val_loss: 1.5417 - val_acc: 0.3080\n",
      "\n",
      "Epoch 00034: val_loss did not improve from 1.48013\n",
      "Epoch 35/200\n",
      "40/40 [==============================] - 130s 3s/step - loss: 1.3726 - acc: 0.3940 - val_loss: 1.4994 - val_acc: 0.3290\n",
      "\n",
      "Epoch 00035: val_loss did not improve from 1.48013\n",
      "Epoch 36/200\n",
      "40/40 [==============================] - 130s 3s/step - loss: 1.3580 - acc: 0.4080 - val_loss: 1.4508 - val_acc: 0.3530\n",
      "\n",
      "Epoch 00036: val_loss improved from 1.48013 to 1.45077, saving model to ../models/diabetic_retinopathy_model.h5\n",
      "Epoch 37/200\n",
      "40/40 [==============================] - 130s 3s/step - loss: 1.3438 - acc: 0.3870 - val_loss: 1.4810 - val_acc: 0.3250\n",
      "\n",
      "Epoch 00037: val_loss did not improve from 1.45077\n",
      "Epoch 38/200\n",
      "40/40 [==============================] - 130s 3s/step - loss: 1.2876 - acc: 0.4220 - val_loss: 1.4106 - val_acc: 0.3710\n",
      "\n",
      "Epoch 00038: val_loss improved from 1.45077 to 1.41055, saving model to ../models/diabetic_retinopathy_model.h5\n"
     ]
    },
    {
     "name": "stdout",
     "output_type": "stream",
     "text": [
      "Epoch 39/200\n",
      "40/40 [==============================] - 130s 3s/step - loss: 1.2969 - acc: 0.4080 - val_loss: 1.4745 - val_acc: 0.3380\n",
      "\n",
      "Epoch 00039: val_loss did not improve from 1.41055\n",
      "Epoch 40/200\n",
      "40/40 [==============================] - 130s 3s/step - loss: 1.2854 - acc: 0.4190 - val_loss: 1.4495 - val_acc: 0.3480\n",
      "\n",
      "Epoch 00040: val_loss did not improve from 1.41055\n",
      "Epoch 41/200\n",
      "40/40 [==============================] - 130s 3s/step - loss: 1.2922 - acc: 0.4420 - val_loss: 1.4688 - val_acc: 0.3930\n",
      "\n",
      "Epoch 00041: val_loss did not improve from 1.41055\n",
      "Epoch 42/200\n",
      "40/40 [==============================] - 130s 3s/step - loss: 1.2536 - acc: 0.4570 - val_loss: 1.3836 - val_acc: 0.3940\n",
      "\n",
      "Epoch 00042: val_loss improved from 1.41055 to 1.38363, saving model to ../models/diabetic_retinopathy_model.h5\n",
      "Epoch 43/200\n",
      "40/40 [==============================] - 130s 3s/step - loss: 1.2264 - acc: 0.4630 - val_loss: 1.4107 - val_acc: 0.3770\n",
      "\n",
      "Epoch 00043: val_loss did not improve from 1.38363\n",
      "Epoch 44/200\n",
      "40/40 [==============================] - 130s 3s/step - loss: 1.2573 - acc: 0.4390 - val_loss: 1.3759 - val_acc: 0.3830\n",
      "\n",
      "Epoch 00044: val_loss improved from 1.38363 to 1.37587, saving model to ../models/diabetic_retinopathy_model.h5\n",
      "Epoch 45/200\n",
      "40/40 [==============================] - 130s 3s/step - loss: 1.2316 - acc: 0.4340 - val_loss: 1.4465 - val_acc: 0.3690\n",
      "\n",
      "Epoch 00045: val_loss did not improve from 1.37587\n",
      "Epoch 46/200\n",
      "40/40 [==============================] - 130s 3s/step - loss: 1.2212 - acc: 0.4630 - val_loss: 1.4235 - val_acc: 0.3890\n",
      "\n",
      "Epoch 00046: val_loss did not improve from 1.37587\n",
      "Epoch 47/200\n",
      "40/40 [==============================] - 130s 3s/step - loss: 1.1987 - acc: 0.4710 - val_loss: 1.4394 - val_acc: 0.3930\n",
      "\n",
      "Epoch 00047: val_loss did not improve from 1.37587\n",
      "Epoch 48/200\n",
      "40/40 [==============================] - 130s 3s/step - loss: 1.2271 - acc: 0.4420 - val_loss: 1.4032 - val_acc: 0.3900\n",
      "\n",
      "Epoch 00048: val_loss did not improve from 1.37587\n",
      "Epoch 49/200\n",
      "40/40 [==============================] - 130s 3s/step - loss: 1.2002 - acc: 0.4690 - val_loss: 1.3639 - val_acc: 0.4070\n",
      "\n",
      "Epoch 00049: val_loss improved from 1.37587 to 1.36394, saving model to ../models/diabetic_retinopathy_model.h5\n",
      "Epoch 50/200\n",
      "40/40 [==============================] - 130s 3s/step - loss: 1.1747 - acc: 0.4770 - val_loss: 1.4179 - val_acc: 0.4040\n",
      "\n",
      "Epoch 00050: val_loss did not improve from 1.36394\n",
      "Epoch 51/200\n",
      "40/40 [==============================] - 130s 3s/step - loss: 1.1898 - acc: 0.4660 - val_loss: 1.4093 - val_acc: 0.3900\n",
      "\n",
      "Epoch 00051: val_loss did not improve from 1.36394\n",
      "Epoch 52/200\n",
      "40/40 [==============================] - 130s 3s/step - loss: 1.1689 - acc: 0.4690 - val_loss: 1.4429 - val_acc: 0.3730\n",
      "\n",
      "Epoch 00052: val_loss did not improve from 1.36394\n",
      "Epoch 53/200\n",
      "40/40 [==============================] - 130s 3s/step - loss: 1.1603 - acc: 0.4750 - val_loss: 1.3410 - val_acc: 0.4030\n",
      "\n",
      "Epoch 00053: val_loss improved from 1.36394 to 1.34104, saving model to ../models/diabetic_retinopathy_model.h5\n",
      "Epoch 54/200\n",
      "40/40 [==============================] - 130s 3s/step - loss: 1.1750 - acc: 0.5100 - val_loss: 1.4526 - val_acc: 0.3890\n",
      "\n",
      "Epoch 00054: val_loss did not improve from 1.34104\n",
      "Epoch 55/200\n",
      "40/40 [==============================] - 130s 3s/step - loss: 1.1601 - acc: 0.4970 - val_loss: 1.4076 - val_acc: 0.4000\n",
      "\n",
      "Epoch 00055: val_loss did not improve from 1.34104\n",
      "Epoch 56/200\n",
      "40/40 [==============================] - 130s 3s/step - loss: 1.1580 - acc: 0.4980 - val_loss: 1.4143 - val_acc: 0.4050\n",
      "\n",
      "Epoch 00056: val_loss did not improve from 1.34104\n",
      "Epoch 57/200\n",
      "40/40 [==============================] - 129s 3s/step - loss: 1.1504 - acc: 0.5020 - val_loss: 1.4430 - val_acc: 0.3780\n",
      "\n",
      "Epoch 00057: val_loss did not improve from 1.34104\n",
      "Epoch 58/200\n",
      "40/40 [==============================] - 130s 3s/step - loss: 1.1211 - acc: 0.5170 - val_loss: 1.4639 - val_acc: 0.4040\n",
      "\n",
      "Epoch 00058: val_loss did not improve from 1.34104\n",
      "Epoch 59/200\n",
      "40/40 [==============================] - 130s 3s/step - loss: 1.1238 - acc: 0.5180 - val_loss: 1.4316 - val_acc: 0.3830\n",
      "\n",
      "Epoch 00059: val_loss did not improve from 1.34104\n",
      "Epoch 60/200\n",
      "40/40 [==============================] - 130s 3s/step - loss: 1.1158 - acc: 0.5190 - val_loss: 1.4636 - val_acc: 0.4010\n",
      "\n",
      "Epoch 00060: val_loss did not improve from 1.34104\n",
      "Epoch 61/200\n",
      "40/40 [==============================] - 130s 3s/step - loss: 1.1170 - acc: 0.5090 - val_loss: 1.4169 - val_acc: 0.4030\n",
      "\n",
      "Epoch 00061: val_loss did not improve from 1.34104\n",
      "Epoch 62/200\n",
      "40/40 [==============================] - 130s 3s/step - loss: 1.0833 - acc: 0.5310 - val_loss: 1.3870 - val_acc: 0.4100\n",
      "\n",
      "Epoch 00062: val_loss did not improve from 1.34104\n",
      "Epoch 63/200\n",
      "40/40 [==============================] - 130s 3s/step - loss: 1.1426 - acc: 0.5090 - val_loss: 1.3792 - val_acc: 0.4140\n",
      "\n",
      "Epoch 00063: val_loss did not improve from 1.34104\n",
      "Epoch 00063: early stopping\n"
     ]
    }
   ],
   "source": [
    "from keras import callbacks\n",
    "from keras.callbacks import TensorBoard\n",
    "import time\n",
    "\n",
    "STEP_SIZE_TRAIN=train_generator.n//train_generator.batch_size\n",
    "STEP_SIZE_VALID=validation_generator.n//validation_generator.batch_size\n",
    "\n",
    "history = model.fit_generator(\n",
    "    train_generator,\n",
    "    steps_per_epoch=STEP_SIZE_TRAIN,\n",
    "    epochs=200, \n",
    "    validation_data=validation_generator,\n",
    "    validation_steps=STEP_SIZE_VALID,\n",
    "    #class_weight=class_weight,\n",
    "    callbacks=callbacks_list)\n"
   ]
  },
  {
   "cell_type": "markdown",
   "metadata": {
    "colab_type": "text",
    "id": "VDKTVhqCocTg"
   },
   "source": [
    "# Plot Results"
   ]
  },
  {
   "cell_type": "code",
   "execution_count": 12,
   "metadata": {
    "colab": {
     "base_uri": "https://localhost:8080/",
     "height": 237
    },
    "colab_type": "code",
    "id": "juQUK9DUoN5t",
    "outputId": "58be386d-f0cd-484d-8019-27c954d393a5"
   },
   "outputs": [
    {
     "data": {
      "image/png": "[encoded data removed]",
      "text/plain": [
       "<Figure size 432x288 with 1 Axes>"
      ]
     },
     "metadata": {},
     "output_type": "display_data"
    },
    {
     "data": {
      "image/png": "[encoded data removed]",
      "text/plain": [
       "<Figure size 432x288 with 1 Axes>"
      ]
     },
     "metadata": {},
     "output_type": "display_data"
    }
   ],
   "source": [
    "acc = history.history['acc']\n",
    "val_acc = history.history['val_acc']\n",
    "loss = history.history['loss']\n",
    "val_loss = history.history['val_loss']\n",
    "\n",
    "epochs = range(len(acc))\n",
    "\n",
    "plt.plot(epochs, acc, 'bo', label='Training acc')\n",
    "plt.plot(epochs, val_acc, 'b', label='Validation acc')\n",
    "plt.title('Training and validation accuracy')\n",
    "plt.legend()\n",
    "\n",
    "plt.figure()\n",
    "\n",
    "plt.plot(epochs, loss, 'bo', label='Training loss')\n",
    "plt.plot(epochs, val_loss, 'b', label='Validation loss')\n",
    "plt.title('Training and validation loss')\n",
    "plt.legend()\n",
    "\n",
    "plt.show()"
   ]
  },
  {
   "cell_type": "markdown",
   "metadata": {
    "colab_type": "text",
    "id": "ddbiba4KwJSr"
   },
   "source": [
    "# Predict Test Base"
   ]
  },
  {
   "cell_type": "code",
   "execution_count": 13,
   "metadata": {
    "colab": {},
    "colab_type": "code",
    "id": "G4YW8TkiwJSu"
   },
   "outputs": [],
   "source": [
    "test_datagen = ImageDataGenerator(rescale=1./255)"
   ]
  },
  {
   "cell_type": "code",
   "execution_count": 14,
   "metadata": {
    "colab": {
     "base_uri": "https://localhost:8080/",
     "height": 34
    },
    "colab_type": "code",
    "id": "y-DuS6yiwJSw",
    "outputId": "901437c4-bb6d-4641-e27b-eb3c2d4801c4"
   },
   "outputs": [
    {
     "name": "stdout",
     "output_type": "stream",
     "text": [
      "Found 1000 images belonging to 5 classes.\n"
     ]
    }
   ],
   "source": [
    "batch_size = 1000\n",
    "\n",
    "test_generator = test_datagen.flow_from_directory(\n",
    "    validation_dir,\n",
    "    target_size=(img_width, img_height),\n",
    "    color_mode='grayscale',\n",
    "    batch_size=batch_size,\n",
    "    class_mode='categorical')\n",
    "\n",
    "valid_X, valid_Y = next(test_generator)"
   ]
  },
  {
   "cell_type": "code",
   "execution_count": 15,
   "metadata": {
    "colab": {},
    "colab_type": "code",
    "id": "iY6BGCN2xF7j"
   },
   "outputs": [],
   "source": [
    "#test_loss, test_acc = model.evaluate(next(test_generator))"
   ]
  },
  {
   "cell_type": "code",
   "execution_count": 16,
   "metadata": {
    "colab": {
     "base_uri": "https://localhost:8080/",
     "height": 34
    },
    "colab_type": "code",
    "id": "ud4ub2zygpYR",
    "outputId": "715e6883-3d00-4c5e-9e77-34851fbab523"
   },
   "outputs": [
    {
     "ename": "ValueError",
     "evalue": "Error when checking input: expected input_1 to have shape (540, 540, 3) but got array with shape (540, 540, 1)",
     "output_type": "error",
     "traceback": [
      "\u001b[0;31m---------------------------------------------------------------------------\u001b[0m",
      "\u001b[0;31mValueError\u001b[0m                                Traceback (most recent call last)",
      "\u001b[0;32m<ipython-input-16-a5280f81caae>\u001b[0m in \u001b[0;36m<module>\u001b[0;34m()\u001b[0m\n\u001b[0;32m----> 1\u001b[0;31m \u001b[0mpred_Y\u001b[0m \u001b[0;34m=\u001b[0m \u001b[0mmodel\u001b[0m\u001b[0;34m.\u001b[0m\u001b[0mpredict\u001b[0m\u001b[0;34m(\u001b[0m\u001b[0mvalid_X\u001b[0m\u001b[0;34m,\u001b[0m \u001b[0mbatch_size\u001b[0m \u001b[0;34m=\u001b[0m \u001b[0mtest_generator\u001b[0m\u001b[0;34m.\u001b[0m\u001b[0mn\u001b[0m \u001b[0;34m//\u001b[0m \u001b[0mtest_generator\u001b[0m\u001b[0;34m.\u001b[0m\u001b[0mbatch_size\u001b[0m\u001b[0;34m,\u001b[0m \u001b[0mverbose\u001b[0m \u001b[0;34m=\u001b[0m \u001b[0mTrue\u001b[0m\u001b[0;34m)\u001b[0m\u001b[0;34m\u001b[0m\u001b[0m\n\u001b[0m",
      "\u001b[0;32m/home/ubuntu/anaconda3/envs/tensorflow_p27/lib/python2.7/site-packages/keras/engine/training.pyc\u001b[0m in \u001b[0;36mpredict\u001b[0;34m(self, x, batch_size, verbose, steps)\u001b[0m\n\u001b[1;32m   1147\u001b[0m                              'argument.')\n\u001b[1;32m   1148\u001b[0m         \u001b[0;31m# Validate user data.\u001b[0m\u001b[0;34m\u001b[0m\u001b[0;34m\u001b[0m\u001b[0m\n\u001b[0;32m-> 1149\u001b[0;31m         \u001b[0mx\u001b[0m\u001b[0;34m,\u001b[0m \u001b[0m_\u001b[0m\u001b[0;34m,\u001b[0m \u001b[0m_\u001b[0m \u001b[0;34m=\u001b[0m \u001b[0mself\u001b[0m\u001b[0;34m.\u001b[0m\u001b[0m_standardize_user_data\u001b[0m\u001b[0;34m(\u001b[0m\u001b[0mx\u001b[0m\u001b[0;34m)\u001b[0m\u001b[0;34m\u001b[0m\u001b[0m\n\u001b[0m\u001b[1;32m   1150\u001b[0m         \u001b[0;32mif\u001b[0m \u001b[0mself\u001b[0m\u001b[0;34m.\u001b[0m\u001b[0mstateful\u001b[0m\u001b[0;34m:\u001b[0m\u001b[0;34m\u001b[0m\u001b[0m\n\u001b[1;32m   1151\u001b[0m             \u001b[0;32mif\u001b[0m \u001b[0mx\u001b[0m\u001b[0;34m[\u001b[0m\u001b[0;36m0\u001b[0m\u001b[0;34m]\u001b[0m\u001b[0;34m.\u001b[0m\u001b[0mshape\u001b[0m\u001b[0;34m[\u001b[0m\u001b[0;36m0\u001b[0m\u001b[0;34m]\u001b[0m \u001b[0;34m>\u001b[0m \u001b[0mbatch_size\u001b[0m \u001b[0;32mand\u001b[0m \u001b[0mx\u001b[0m\u001b[0;34m[\u001b[0m\u001b[0;36m0\u001b[0m\u001b[0;34m]\u001b[0m\u001b[0;34m.\u001b[0m\u001b[0mshape\u001b[0m\u001b[0;34m[\u001b[0m\u001b[0;36m0\u001b[0m\u001b[0;34m]\u001b[0m \u001b[0;34m%\u001b[0m \u001b[0mbatch_size\u001b[0m \u001b[0;34m!=\u001b[0m \u001b[0;36m0\u001b[0m\u001b[0;34m:\u001b[0m\u001b[0;34m\u001b[0m\u001b[0m\n",
      "\u001b[0;32m/home/ubuntu/anaconda3/envs/tensorflow_p27/lib/python2.7/site-packages/keras/engine/training.pyc\u001b[0m in \u001b[0;36m_standardize_user_data\u001b[0;34m(self, x, y, sample_weight, class_weight, check_array_lengths, batch_size)\u001b[0m\n\u001b[1;32m    749\u001b[0m             \u001b[0mfeed_input_shapes\u001b[0m\u001b[0;34m,\u001b[0m\u001b[0;34m\u001b[0m\u001b[0m\n\u001b[1;32m    750\u001b[0m             \u001b[0mcheck_batch_axis\u001b[0m\u001b[0;34m=\u001b[0m\u001b[0mFalse\u001b[0m\u001b[0;34m,\u001b[0m  \u001b[0;31m# Don't enforce the batch size.\u001b[0m\u001b[0;34m\u001b[0m\u001b[0m\n\u001b[0;32m--> 751\u001b[0;31m             exception_prefix='input')\n\u001b[0m\u001b[1;32m    752\u001b[0m \u001b[0;34m\u001b[0m\u001b[0m\n\u001b[1;32m    753\u001b[0m         \u001b[0;32mif\u001b[0m \u001b[0my\u001b[0m \u001b[0;32mis\u001b[0m \u001b[0;32mnot\u001b[0m \u001b[0mNone\u001b[0m\u001b[0;34m:\u001b[0m\u001b[0;34m\u001b[0m\u001b[0m\n",
      "\u001b[0;32m/home/ubuntu/anaconda3/envs/tensorflow_p27/lib/python2.7/site-packages/keras/engine/training_utils.pyc\u001b[0m in \u001b[0;36mstandardize_input_data\u001b[0;34m(data, names, shapes, check_batch_axis, exception_prefix)\u001b[0m\n\u001b[1;32m    136\u001b[0m                             \u001b[0;34m': expected '\u001b[0m \u001b[0;34m+\u001b[0m \u001b[0mnames\u001b[0m\u001b[0;34m[\u001b[0m\u001b[0mi\u001b[0m\u001b[0;34m]\u001b[0m \u001b[0;34m+\u001b[0m \u001b[0;34m' to have shape '\u001b[0m \u001b[0;34m+\u001b[0m\u001b[0;34m\u001b[0m\u001b[0m\n\u001b[1;32m    137\u001b[0m                             \u001b[0mstr\u001b[0m\u001b[0;34m(\u001b[0m\u001b[0mshape\u001b[0m\u001b[0;34m)\u001b[0m \u001b[0;34m+\u001b[0m \u001b[0;34m' but got array with shape '\u001b[0m \u001b[0;34m+\u001b[0m\u001b[0;34m\u001b[0m\u001b[0m\n\u001b[0;32m--> 138\u001b[0;31m                             str(data_shape))\n\u001b[0m\u001b[1;32m    139\u001b[0m     \u001b[0;32mreturn\u001b[0m \u001b[0mdata\u001b[0m\u001b[0;34m\u001b[0m\u001b[0m\n\u001b[1;32m    140\u001b[0m \u001b[0;34m\u001b[0m\u001b[0m\n",
      "\u001b[0;31mValueError\u001b[0m: Error when checking input: expected input_1 to have shape (540, 540, 3) but got array with shape (540, 540, 1)"
     ]
    }
   ],
   "source": [
    "pred_Y = model.predict(valid_X, batch_size = test_generator.n // test_generator.batch_size, verbose = True)"
   ]
  },
  {
   "cell_type": "code",
   "execution_count": null,
   "metadata": {
    "colab": {
     "base_uri": "https://localhost:8080/",
     "height": 139
    },
    "colab_type": "code",
    "id": "Ytwpgt4sZw_l",
    "outputId": "29a942e2-0776-4cb7-d169-6053d1d073d9"
   },
   "outputs": [],
   "source": [
    "pred_Y"
   ]
  },
  {
   "cell_type": "markdown",
   "metadata": {
    "colab_type": "text",
    "id": "X9fpV7P0iV0R"
   },
   "source": [
    "# Metrics"
   ]
  },
  {
   "cell_type": "code",
   "execution_count": null,
   "metadata": {
    "colab": {
     "base_uri": "https://localhost:8080/",
     "height": 410
    },
    "colab_type": "code",
    "id": "kePdWjiTgpbO",
    "outputId": "80af4f71-7795-4bc2-b6c3-52737bcd8911"
   },
   "outputs": [],
   "source": [
    "from sklearn.metrics import classification_report, confusion_matrix\n",
    "plt.matshow(confusion_matrix(np.argmax(valid_Y, -1), np.argmax(pred_Y,-1)))\n",
    "print(classification_report(np.argmax(valid_Y, -1), \n",
    "                            np.argmax(pred_Y,-1)))"
   ]
  },
  {
   "cell_type": "code",
   "execution_count": null,
   "metadata": {
    "colab": {
     "base_uri": "https://localhost:8080/",
     "height": 69
    },
    "colab_type": "code",
    "id": "hEngD5s_gpVc",
    "outputId": "445e83d4-abf8-4d1e-990d-dd372a4eebc4"
   },
   "outputs": [],
   "source": [
    "confusion_matrix(np.argmax(valid_Y, -1), np.argmax(pred_Y,-1))"
   ]
  },
  {
   "cell_type": "code",
   "execution_count": null,
   "metadata": {
    "colab": {
     "base_uri": "https://localhost:8080/",
     "height": 726
    },
    "colab_type": "code",
    "id": "X6PsMR8JqGLD",
    "outputId": "b07f3065-7d23-4fbd-9229-9dda5c37572e"
   },
   "outputs": [],
   "source": [
    "from sklearn.metrics import roc_curve, roc_auc_score\n",
    "fpr, tpr, _ = roc_curve(np.argmax(valid_Y,-1)==0, pred_Y[:,0])\n",
    "fig, ax1 = plt.subplots(1,1, figsize = (5, 5), dpi = 150)\n",
    "ax1.plot(fpr, tpr, 'b.-', label = 'Model (AUC:%2.2f)' % roc_auc_score(np.argmax(valid_Y,-1)==0, pred_Y[:,0]))\n",
    "ax1.plot(fpr, fpr, 'k-', label = 'Random Guessing')\n",
    "ax1.legend(loc = 4)\n",
    "ax1.set_xlabel('False Positive Rate')\n",
    "ax1.set_ylabel('True Positive Rate');\n",
    "ax1.set_title('Lung Opacity ROC Curve')"
   ]
  }
 ],
 "metadata": {
  "accelerator": "GPU",
  "colab": {
   "name": "2_From_Scratch_Data_Augmented.ipynb",
   "provenance": [],
   "toc_visible": true,
   "version": "0.3.2"
  },
  "kernelspec": {
   "display_name": "Environment (conda_tensorflow_p27)",
   "language": "python",
   "name": "conda_tensorflow_p27"
  },
  "language_info": {
   "codemirror_mode": {
    "name": "ipython",
    "version": 2
   },
   "file_extension": ".py",
   "mimetype": "text/x-python",
   "name": "python",
   "nbconvert_exporter": "python",
   "pygments_lexer": "ipython2",
   "version": "2.7.15"
  }
 },
 "nbformat": 4,
 "nbformat_minor": 1
}
