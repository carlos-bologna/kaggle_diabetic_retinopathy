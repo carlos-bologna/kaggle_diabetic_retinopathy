{
 "cells": [
  {
   "cell_type": "markdown",
   "metadata": {},
   "source": [
    "# Cálculo da Média e Desvio Padrão do Dataset"
   ]
  },
  {
   "cell_type": "code",
   "execution_count": 1,
   "metadata": {},
   "outputs": [],
   "source": [
    "#! pip2 install opencv-python"
   ]
  },
  {
   "cell_type": "code",
   "execution_count": 2,
   "metadata": {},
   "outputs": [],
   "source": [
    "import os, cv2, math\n",
    "import numpy as np"
   ]
  },
  {
   "cell_type": "code",
   "execution_count": 3,
   "metadata": {},
   "outputs": [],
   "source": [
    "base_dir = '../data/small_train/'\n",
    "w=540\n",
    "h=540"
   ]
  },
  {
   "cell_type": "markdown",
   "metadata": {},
   "source": [
    "Seleciona as pastas contidas no diretório base das imagens, que correspondem às classes do dataset (ou targets)."
   ]
  },
  {
   "cell_type": "code",
   "execution_count": 4,
   "metadata": {},
   "outputs": [],
   "source": [
    "classes = next(os.walk(base_dir))[1]"
   ]
  },
  {
   "cell_type": "markdown",
   "metadata": {},
   "source": [
    "# Fórmula do Desvio Padrão"
   ]
  },
  {
   "cell_type": "markdown",
   "metadata": {},
   "source": [
    "![\"Fórmula\"](https://cdn.kastatic.org/googleusercontent/N8xzWFc6eo0XBHEXZjz1SwvLSnPezvhTRF1P17kdjUG_tnJivGKkyCxbwVe4MZ0-USOxIZBohgcjdi8e7Z4Hswcqfw)"
   ]
  },
  {
   "cell_type": "markdown",
   "metadata": {},
   "source": [
    "### Cálculo da Média\n",
    "\n",
    "Como exibido na fórmula acima, um dos parâmetros que precisamos é a média aritmética do dataset.\n",
    "Abaixo, vamos calcular esta média, percorrendo cada imagem e armazenando a soma de todos os elementos da matriz.\n",
    "Sabemos que uma imagem colorida possui 3 canais, e iremos calcular tanto a média como o desvio padrão, para cada um dos canais de forma independente."
   ]
  },
  {
   "cell_type": "code",
   "execution_count": 5,
   "metadata": {},
   "outputs": [],
   "source": [
    "sum_0 = 0\n",
    "sum_1 = 0\n",
    "sum_2 = 0\n",
    "num_img = 0\n",
    "\n",
    "for folder_class in classes:\n",
    "\n",
    "    files = next(os.walk(os.path.join(base_dir, folder_class)))[2]\n",
    "    \n",
    "    for f in files:\n",
    "        img = cv2.imread(os.path.join(base_dir, folder_class, f))\n",
    "        sum_0 += np.sum(img[:,:,0])\n",
    "        sum_1 += np.sum(img[:,:,1])\n",
    "        sum_2 += np.sum(img[:,:,2])\n",
    "        num_img += 1"
   ]
  },
  {
   "cell_type": "markdown",
   "metadata": {},
   "source": [
    "Com a somatória calculada, vamos dividir os resultados pelo número de elementos do dataset, que é igual ao número de elemento de cada matriz (cada canal da imagem) multiplicado pelo número de imagens (que também foi acumulado durante os cálculos)."
   ]
  },
  {
   "cell_type": "code",
   "execution_count": 6,
   "metadata": {},
   "outputs": [],
   "source": [
    "mean_0 = sum_0 / (w * h * num_img)\n",
    "mean_1 = sum_1 / (w * h * num_img)\n",
    "mean_2 = sum_2 / (w * h * num_img)"
   ]
  },
  {
   "cell_type": "markdown",
   "metadata": {},
   "source": [
    "### Cálculo do Desvio Padrão\n",
    "\n",
    "Vamos percorrer novamente todas as imagens, mas agora, munidos das médias gerais de cada canal. Assim, podemos dar mais um passo na fórmula do desvio padrão, que é o armazenamento da diferença quadrática de todos os elementos de cada matriz."
   ]
  },
  {
   "cell_type": "code",
   "execution_count": 7,
   "metadata": {},
   "outputs": [],
   "source": [
    "sqr_sum_0 = 0\n",
    "sqr_sum_1 = 0\n",
    "sqr_sum_2 = 0\n",
    "\n",
    "for folder_class in classes:\n",
    "\n",
    "    files = next(os.walk(os.path.join(base_dir, folder_class)))[2]\n",
    "    \n",
    "    for f in files:\n",
    "        img = cv2.imread(os.path.join(base_dir, folder_class, f))\n",
    "        sqr_sum_0 += np.sum(np.subtract(img[:,:,0], [mean_0]) ** 2)\n",
    "        sqr_sum_1 += np.sum(np.subtract(img[:,:,1], [mean_1]) ** 2)\n",
    "        sqr_sum_2 += np.sum(np.subtract(img[:,:,2], [mean_2]) ** 2)\n",
    "        break"
   ]
  },
  {
   "cell_type": "markdown",
   "metadata": {},
   "source": [
    "Agora o que temos que fazer é concluir a aplicação da fórmula, aplicando o denominador e posteriormente a raiz quadrada para obtermos o desvio padrão do dataset para cada canal."
   ]
  },
  {
   "cell_type": "code",
   "execution_count": 8,
   "metadata": {},
   "outputs": [],
   "source": [
    "std_0 = math.sqrt(sqr_sum_0 / (w * h * num_img - 1))\n",
    "std_1 = math.sqrt(sqr_sum_1 / (w * h * num_img - 1))\n",
    "std_2 = math.sqrt(sqr_sum_2 / (w * h * num_img - 1))"
   ]
  },
  {
   "cell_type": "markdown",
   "metadata": {},
   "source": [
    "## Resultado\n",
    "\n",
    "Utilize os números abaixo para a normalização de cada imagem antes de alimentar sua rede neural. Assim você estará normalizando a imagem de acordo com os padrões encontrados em todo dataset.\n",
    "Note que utilizamos apenas a base de treino para identificar a média e o desvio padrão. São estes parâmetros que devem ser utilizados para normalizar também a base de teste e, posteriormente, são também estes parâmetros que deverão ser utilizados quando o modelo entrar em produção."
   ]
  },
  {
   "cell_type": "code",
   "execution_count": 13,
   "metadata": {},
   "outputs": [
    {
     "name": "stdout",
     "output_type": "stream",
     "text": [
      "Média do Canal 0: 104.183330781893\n",
      "Média do Canal 1: 106.9134984430727\n",
      "Média do Canal 2: 111.30260913923182\n",
      "\n",
      "Desvio Padrão do Canal 0: 4.2141225097\n",
      "Desvio Padrão do Canal 1: 4.49451983235\n",
      "Desvio Padrão do Canal 2: 4.5237623716\n"
     ]
    }
   ],
   "source": [
    "print('Média do Canal 0: ' + str(mean_0))\n",
    "print('Média do Canal 1: ' + str(mean_1))\n",
    "print('Média do Canal 2: ' + str(mean_2))\n",
    "print('')\n",
    "print('Desvio Padrão do Canal 0: ' + str(std_0))\n",
    "print('Desvio Padrão do Canal 1: ' + str(std_1))\n",
    "print('Desvio Padrão do Canal 2: ' + str(std_2))"
   ]
  }
 ],
 "metadata": {
  "kernelspec": {
   "display_name": "Python 2",
   "language": "python",
   "name": "python2"
  },
  "language_info": {
   "codemirror_mode": {
    "name": "ipython",
    "version": 2
   },
   "file_extension": ".py",
   "mimetype": "text/x-python",
   "name": "python",
   "nbconvert_exporter": "python",
   "pygments_lexer": "ipython2",
   "version": "2.7.12"
  }
 },
 "nbformat": 4,
 "nbformat_minor": 2
}
