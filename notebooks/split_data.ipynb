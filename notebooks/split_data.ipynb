{
 "cells": [
  {
   "cell_type": "markdown",
   "metadata": {},
   "source": [
    "# Load Datasets"
   ]
  },
  {
   "cell_type": "code",
   "execution_count": 1,
   "metadata": {},
   "outputs": [],
   "source": [
    "import pandas as pd\n",
    "\n",
    "df_train = pd.read_csv('../data/trainLabels.csv')\n",
    "df_train = df_train[df_train.image.isin(['492_right'])==False]\n",
    "\n",
    "df_test = pd.read_csv('../data/testLabels.csv') # Já temos os targets da base de teste, então vamos usar.\n",
    "df_test = df_test[df_test.image.isin(['25313_right', '27096_right'])==False]\n",
    "\n",
    "df_train['folder'] = 'train'\n",
    "df_test['folder'] = 'test'\n",
    "df = pd.concat([df_train.loc[:, ['folder', 'image', 'level']], df_test.loc[:, ['folder', 'image', 'level']]])\n",
    "\n"
   ]
  },
  {
   "cell_type": "markdown",
   "metadata": {},
   "source": [
    "# Calc Balance"
   ]
  },
  {
   "cell_type": "code",
   "execution_count": 2,
   "metadata": {},
   "outputs": [],
   "source": [
    "from sklearn.utils import class_weight\n",
    "class_w = class_weight.compute_class_weight('balanced'\n",
    "                                               ,sorted(df.level.unique())\n",
    "                                               ,df.level)"
   ]
  },
  {
   "cell_type": "markdown",
   "metadata": {},
   "source": [
    "# Balance the Dataset"
   ]
  },
  {
   "cell_type": "code",
   "execution_count": 3,
   "metadata": {},
   "outputs": [
    {
     "data": {
      "text/plain": [
       "array([0.27149569, 2.85895246, 1.34882908, 8.50014375, 9.26844305])"
      ]
     },
     "execution_count": 3,
     "metadata": {},
     "output_type": "execute_result"
    }
   ],
   "source": [
    "class_w"
   ]
  },
  {
   "cell_type": "markdown",
   "metadata": {},
   "source": [
    "Apenas a classe 0 tem peso menor que 1, sendo assim, iremos diminuir seu volume aplicando downsample e vamos manter as demais classes sem alteração.\n",
    "Será necessário recalcular os pesos para a utilização no hiperparâmetro class_weight do Keras."
   ]
  },
  {
   "cell_type": "code",
   "execution_count": 4,
   "metadata": {},
   "outputs": [],
   "source": [
    "from sklearn.utils import resample\n",
    "\n",
    "n_samples = class_w * df.level.value_counts().sort_index().values\n",
    "\n",
    "df0 = resample(df[df.level==0], n_samples=int(n_samples[0]), replace=False, random_state=2019)\n",
    "#df1 = resample(df[df.level==1], n_samples=int(n_samples[1]), replace=True, random_state=2019)\n",
    "#df2 = resample(df[df.level==2], n_samples=int(n_samples[2]), replace=True, random_state=2019)\n",
    "#df3 = resample(df[df.level==3], n_samples=int(n_samples[3]), replace=True, random_state=2019)\n",
    "#df4 = resample(df[df.level==4], n_samples=int(n_samples[4]), replace=True, random_state=2019)\n",
    "\n",
    "df_others = df[df.level != 0]\n",
    "                        \n",
    "#df_balanced = pd.concat([df0, df1, df2, df3, df4])\n",
    "df_balanced = pd.concat([df0, df_others])"
   ]
  },
  {
   "cell_type": "markdown",
   "metadata": {},
   "source": [
    "# Split Data into Train & Test"
   ]
  },
  {
   "cell_type": "code",
   "execution_count": 8,
   "metadata": {
    "scrolled": true
   },
   "outputs": [
    {
     "name": "stdout",
     "output_type": "stream",
     "text": [
      "(28767, 3)\n",
      "(12330, 3)\n"
     ]
    }
   ],
   "source": [
    "from sklearn.model_selection import train_test_split\n",
    "df_train, df_test = train_test_split(df_balanced, test_size = 0.3, random_state = 1407)\n",
    "\n",
    "print(df_train.shape)\n",
    "print(df_test.shape)"
   ]
  },
  {
   "cell_type": "markdown",
   "metadata": {},
   "source": [
    "# Calc Balance for Train Data"
   ]
  },
  {
   "cell_type": "markdown",
   "metadata": {},
   "source": [
    "Estes pesos precisam ser colocados no hiperparâmetro class_weight do Keras."
   ]
  },
  {
   "cell_type": "code",
   "execution_count": 12,
   "metadata": {},
   "outputs": [
    {
     "data": {
      "text/plain": [
       "array([0.46182373, 1.33303985, 0.62618633, 3.90590631, 4.31936937])"
      ]
     },
     "execution_count": 12,
     "metadata": {},
     "output_type": "execute_result"
    }
   ],
   "source": [
    "train_class_w = class_weight.compute_class_weight('balanced'\n",
    "                                               ,sorted(df_train.level.unique())\n",
    "                                               ,df_train.level)\n",
    "\n",
    "train_class_w"
   ]
  },
  {
   "cell_type": "markdown",
   "metadata": {},
   "source": [
    "# Move Files do Test Dir"
   ]
  },
  {
   "cell_type": "code",
   "execution_count": 9,
   "metadata": {},
   "outputs": [],
   "source": [
    "import shutil\n",
    "\n",
    "for index, row in df_train.iterrows():\n",
    "    shutil.move('../data/all/' + str(row.level) + '/' + row.folder + '_' + row.image + '.jpeg', \n",
    "                '../data/train/' + str(row.level) + '/' + row.folder + '_' + row.image + '.jpeg')\n",
    "    "
   ]
  },
  {
   "cell_type": "code",
   "execution_count": 10,
   "metadata": {},
   "outputs": [],
   "source": [
    "import shutil\n",
    "\n",
    "for index, row in df_test.iterrows():\n",
    "    shutil.move('../data/all/' + str(row.level) + '/' + row.folder + '_' + row.image + '.jpeg', \n",
    "                '../data/test/' + str(row.level) + '/' + row.folder + '_' + row.image + '.jpeg')"
   ]
  },
  {
   "cell_type": "markdown",
   "metadata": {},
   "source": [
    "# Create a Small Dataset to Train"
   ]
  },
  {
   "cell_type": "code",
   "execution_count": 2,
   "metadata": {},
   "outputs": [],
   "source": [
    "import os, random, shutil\n",
    "\n",
    "base_dir = '../data/'\n",
    "\n",
    "for d in ['train', 'test']:\n",
    "    for c in range(0,5):\n",
    "        files = os.listdir(base_dir + d + '/' + str(c))\n",
    "        sample = random.sample(files, 200)\n",
    "        for f in sample:\n",
    "            shutil.copyfile(os.path.join(base_dir, d, str(c), f), os.path.join(base_dir, 'small_' + d, str(c), f))"
   ]
  }
 ],
 "metadata": {
  "kernelspec": {
   "display_name": "Python 2",
   "language": "python",
   "name": "python2"
  },
  "language_info": {
   "codemirror_mode": {
    "name": "ipython",
    "version": 2
   },
   "file_extension": ".py",
   "mimetype": "text/x-python",
   "name": "python",
   "nbconvert_exporter": "python",
   "pygments_lexer": "ipython2",
   "version": "2.7.12"
  }
 },
 "nbformat": 4,
 "nbformat_minor": 2
}
