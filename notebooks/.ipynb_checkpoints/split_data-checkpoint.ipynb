{
 "cells": [
  {
   "cell_type": "markdown",
   "metadata": {},
   "source": [
    "# Load Datasets"
   ]
  },
  {
   "cell_type": "code",
   "execution_count": 18,
   "metadata": {},
   "outputs": [],
   "source": [
    "import pandas as pd\n",
    "\n",
    "df_train = pd.read_csv('../data/trainLabels.csv')\n",
    "df_train = df_train[df_train.image.isin(['492_right'])==False]\n",
    "\n",
    "df_test = pd.read_csv('../data/testLabels.csv') # Já temos os targets da base de teste, então vamos usar.\n",
    "df_test = df_test[df_test.image.isin(['25313_right', '27096_right'])==False]\n",
    "\n",
    "df_train['folder'] = 'train'\n",
    "df_test['folder'] = 'test'\n",
    "df = pd.concat([df_train.loc[:, ['folder', 'image', 'level']], df_test.loc[:, ['folder', 'image', 'level']]])\n",
    "\n"
   ]
  },
  {
   "cell_type": "markdown",
   "metadata": {},
   "source": [
    "# Split Data into Train & Test"
   ]
  },
  {
   "cell_type": "code",
   "execution_count": 19,
   "metadata": {},
   "outputs": [],
   "source": [
    "from sklearn.model_selection import train_test_split\n",
    "df_train, df_test = train_test_split(df, test_size = 0.1, random_state = 1407)"
   ]
  },
  {
   "cell_type": "markdown",
   "metadata": {},
   "source": [
    "# Move Files do Test Dir"
   ]
  },
  {
   "cell_type": "code",
   "execution_count": 30,
   "metadata": {},
   "outputs": [],
   "source": [
    "import shutil\n",
    "\n",
    "for index, row in df_test.iterrows():\n",
    "    shutil.move('../data/train/' + str(row.level) + '/' + row.folder + '_' + row.image + '.jpeg', \n",
    "                '../data/test/' + str(row.level) + '/' + row.folder + '_' + row.image + '.jpeg')"
   ]
  }
 ],
 "metadata": {
  "kernelspec": {
   "display_name": "Python 2",
   "language": "python",
   "name": "python2"
  },
  "language_info": {
   "codemirror_mode": {
    "name": "ipython",
    "version": 2
   },
   "file_extension": ".py",
   "mimetype": "text/x-python",
   "name": "python",
   "nbconvert_exporter": "python",
   "pygments_lexer": "ipython2",
   "version": "2.7.15"
  }
 },
 "nbformat": 4,
 "nbformat_minor": 2
}
