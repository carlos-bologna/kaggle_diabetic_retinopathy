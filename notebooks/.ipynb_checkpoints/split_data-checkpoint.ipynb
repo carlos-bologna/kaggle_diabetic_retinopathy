{
 "cells": [
  {
   "cell_type": "markdown",
   "metadata": {},
   "source": [
    "# Load Datasets"
   ]
  },
  {
   "cell_type": "code",
   "execution_count": 1,
   "metadata": {},
   "outputs": [],
   "source": [
    "import pandas as pd\n",
    "\n",
    "df_train = pd.read_csv('../data/trainLabels.csv')\n",
    "df_train = df_train[df_train.image.isin(['492_right'])==False]\n",
    "\n",
    "df_test = pd.read_csv('../data/testLabels.csv') # Já temos os targets da base de teste, então vamos usar.\n",
    "df_test = df_test[df_test.image.isin(['25313_right', '27096_right'])==False]\n",
    "\n",
    "df_train['folder'] = 'train'\n",
    "df_test['folder'] = 'test'\n",
    "df = pd.concat([df_train.loc[:, ['folder', 'image', 'level']], df_test.loc[:, ['folder', 'image', 'level']]])\n",
    "\n"
   ]
  },
  {
   "cell_type": "markdown",
   "metadata": {},
   "source": [
    "# Calc Balance"
   ]
  },
  {
   "cell_type": "code",
   "execution_count": 2,
   "metadata": {},
   "outputs": [],
   "source": [
    "from sklearn.utils import class_weight\n",
    "class_w = class_weight.compute_class_weight('balanced'\n",
    "                                               ,sorted(df.level.unique())\n",
    "                                               ,df.level)"
   ]
  },
  {
   "cell_type": "markdown",
   "metadata": {},
   "source": [
    "# Balance the Dataset"
   ]
  },
  {
   "cell_type": "code",
   "execution_count": 3,
   "metadata": {},
   "outputs": [
    {
     "data": {
      "text/plain": [
       "array([0.27149569, 2.85895246, 1.34882908, 8.50014375, 9.26844305])"
      ]
     },
     "execution_count": 3,
     "metadata": {},
     "output_type": "execute_result"
    }
   ],
   "source": [
    "class_w"
   ]
  },
  {
   "cell_type": "markdown",
   "metadata": {},
   "source": [
    "Apenas a classe 0 tem peso menor que 1, sendo assim, iremos diminuir seu volume aplicando downsample e vamos manter as demais classes sem alteração.\n",
    "Será necessário recalcular os pesos para a utilização no hiperparâmetro class_weight do Keras."
   ]
  },
  {
   "cell_type": "code",
   "execution_count": 4,
   "metadata": {},
   "outputs": [],
   "source": [
    "from sklearn.utils import resample\n",
    "\n",
    "n_samples = class_w * df.level.value_counts().sort_index().values\n",
    "\n",
    "df0 = resample(df[df.level==0], n_samples=int(n_samples[0]), replace=False, random_state=2019)\n",
    "#df1 = resample(df[df.level==1], n_samples=int(n_samples[1]), replace=True, random_state=2019)\n",
    "#df2 = resample(df[df.level==2], n_samples=int(n_samples[2]), replace=True, random_state=2019)\n",
    "#df3 = resample(df[df.level==3], n_samples=int(n_samples[3]), replace=True, random_state=2019)\n",
    "#df4 = resample(df[df.level==4], n_samples=int(n_samples[4]), replace=True, random_state=2019)\n",
    "\n",
    "df_others = df[df.level != 0]\n",
    "                        \n",
    "#df_balanced = pd.concat([df0, df1, df2, df3, df4])\n",
    "df_balanced = pd.concat([df0, df_others])"
   ]
  },
  {
   "cell_type": "markdown",
   "metadata": {},
   "source": [
    "# Split Data into Train & Test"
   ]
  },
  {
   "cell_type": "code",
   "execution_count": 8,
   "metadata": {
    "scrolled": true
   },
   "outputs": [
    {
     "name": "stdout",
     "output_type": "stream",
     "text": [
      "(28767, 3)\n",
      "(12330, 3)\n"
     ]
    }
   ],
   "source": [
    "from sklearn.model_selection import train_test_split\n",
    "df_train, df_test = train_test_split(df_balanced, test_size = 0.3, random_state = 1407)\n",
    "\n",
    "print(df_train.shape)\n",
    "print(df_test.shape)"
   ]
  },
  {
   "cell_type": "markdown",
   "metadata": {},
   "source": [
    "# Calc Balance for Train Data"
   ]
  },
  {
   "cell_type": "markdown",
   "metadata": {},
   "source": [
    "Estes pesos precisam ser colocados no hiperparâmetro class_weight do Keras."
   ]
  },
  {
   "cell_type": "code",
   "execution_count": 12,
   "metadata": {},
   "outputs": [
    {
     "data": {
      "text/plain": [
       "array([0.46182373, 1.33303985, 0.62618633, 3.90590631, 4.31936937])"
      ]
     },
     "execution_count": 12,
     "metadata": {},
     "output_type": "execute_result"
    }
   ],
   "source": [
    "train_class_w = class_weight.compute_class_weight('balanced'\n",
    "                                               ,sorted(df_train.level.unique())\n",
    "                                               ,df_train.level)\n",
    "\n",
    "train_class_w"
   ]
  },
  {
   "cell_type": "markdown",
   "metadata": {},
   "source": [
    "# Move Files do Test Dir"
   ]
  },
  {
   "cell_type": "code",
   "execution_count": 9,
   "metadata": {},
   "outputs": [],
   "source": [
    "import shutil\n",
    "\n",
    "for index, row in df_train.iterrows():\n",
    "    shutil.move('../data/all/' + str(row.level) + '/' + row.folder + '_' + row.image + '.jpeg', \n",
    "                '../data/train/' + str(row.level) + '/' + row.folder + '_' + row.image + '.jpeg')\n",
    "    "
   ]
  },
  {
   "cell_type": "code",
   "execution_count": 10,
   "metadata": {},
   "outputs": [],
   "source": [
    "import shutil\n",
    "\n",
    "for index, row in df_test.iterrows():\n",
    "    shutil.move('../data/all/' + str(row.level) + '/' + row.folder + '_' + row.image + '.jpeg', \n",
    "                '../data/test/' + str(row.level) + '/' + row.folder + '_' + row.image + '.jpeg')"
   ]
  },
  {
   "cell_type": "markdown",
   "metadata": {},
   "source": [
    "# Create a Small Dataset to Train"
   ]
  },
  {
   "cell_type": "code",
   "execution_count": 61,
   "metadata": {},
   "outputs": [],
   "source": [
    "import os\n",
    "\n",
    "base_dir = '../data/'\n",
    "train_dir = base_dir + 'train/'\n",
    "test_dir = base_dir + 'test/'\n",
    "\n",
    "train_0 = ['0/' + f for f in os.listdir(train_dir + '0')]\n",
    "train_1 = ['1/' + f for f in os.listdir(train_dir + '1')]\n",
    "train_2 = ['2/' + f for f in os.listdir(train_dir + '2')]\n",
    "train_3 = ['3/' + f for f in os.listdir(train_dir + '3')]\n",
    "train_4 = ['4/' + f for f in os.listdir(train_dir + '4')]\n",
    "\n",
    "test_0 = ['0/' + f for f in os.listdir(test_dir + '0')]\n",
    "test_1 = ['1/' + f for f in os.listdir(test_dir + '1')]\n",
    "test_2 = ['2/' + f for f in os.listdir(test_dir + '2')]\n",
    "test_3 = ['3/' + f for f in os.listdir(test_dir + '3')]\n",
    "test_4 = ['4/' + f for f in os.listdir(test_dir + '4')]"
   ]
  },
  {
   "cell_type": "code",
   "execution_count": 46,
   "metadata": {},
   "outputs": [],
   "source": [
    "import random\n",
    "\n",
    "sample_train_0 = random.sample(train_0, 200)\n",
    "sample_train_1 = random.sample(train_1, 200)\n",
    "sample_train_2 = random.sample(train_2, 200)\n",
    "sample_train_3 = random.sample(train_3, 200)\n",
    "sample_train_4 = random.sample(train_4, 200)\n",
    "\n",
    "train_small_sample = sample_train_0 + sample_train_1 + sample_train_2 + sample_train_3 + sample_train_4\n",
    "\n",
    "sample_test_0 = random.sample(test_0, 200)\n",
    "sample_test_1 = random.sample(test_1, 200)\n",
    "sample_test_2 = random.sample(test_2, 200)\n",
    "sample_test_3 = random.sample(test_3, 200)\n",
    "sample_test_4 = random.sample(test_4, 200)\n",
    "\n",
    "test_small_sample = sample_test_0 + sample_test_1 + sample_test_2 + sample_test_3 + sample_test_4"
   ]
  },
  {
   "cell_type": "markdown",
   "metadata": {},
   "source": [
    "## COPY Small Samples Files to Other Directory"
   ]
  },
  {
   "cell_type": "code",
   "execution_count": null,
   "metadata": {},
   "outputs": [],
   "source": [
    "import shutil\n",
    "\n",
    "for f in train_small_sample:\n",
    "    shutil.copyfile('../data/train/0' + str(row.level) + '/' + row.folder + '_' + row.image + '.jpeg', \n",
    "                '../data/train/' + str(row.level) + '/' + row.folder + '_' + row.image + '.jpeg')\n"
   ]
  }
 ],
 "metadata": {
  "kernelspec": {
   "display_name": "Python 2",
   "language": "python",
   "name": "python2"
  },
  "language_info": {
   "codemirror_mode": {
    "name": "ipython",
    "version": 2
   },
   "file_extension": ".py",
   "mimetype": "text/x-python",
   "name": "python",
   "nbconvert_exporter": "python",
   "pygments_lexer": "ipython2",
   "version": "2.7.15"
  }
 },
 "nbformat": 4,
 "nbformat_minor": 2
}
