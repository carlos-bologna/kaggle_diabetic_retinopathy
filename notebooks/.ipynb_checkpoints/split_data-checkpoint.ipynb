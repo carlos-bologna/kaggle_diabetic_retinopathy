{
 "cells": [
  {
   "cell_type": "markdown",
   "metadata": {},
   "source": [
    "# Load Datasets"
   ]
  },
  {
   "cell_type": "code",
   "execution_count": 1,
   "metadata": {},
   "outputs": [],
   "source": [
    "import pandas as pd\n",
    "\n",
    "df_train = pd.read_csv('../data/trainLabels.csv')\n",
    "df_train = df_train[df_train.image.isin(['492_right'])==False]\n",
    "\n",
    "df_test = pd.read_csv('../data/testLabels.csv') # Já temos os targets da base de teste, então vamos usar.\n",
    "df_test = df_test[df_test.image.isin(['25313_right', '27096_right'])==False]\n",
    "\n",
    "df_train['folder'] = 'train'\n",
    "df_test['folder'] = 'test'\n",
    "df = pd.concat([df_train.loc[:, ['folder', 'image', 'level']], df_test.loc[:, ['folder', 'image', 'level']]])\n",
    "\n"
   ]
  },
  {
   "cell_type": "markdown",
   "metadata": {},
   "source": [
    "# Calc Balance"
   ]
  },
  {
   "cell_type": "code",
   "execution_count": 2,
   "metadata": {},
   "outputs": [],
   "source": [
    "from sklearn.utils import class_weight\n",
    "class_weight = class_weight.compute_class_weight('balanced'\n",
    "                                               ,sorted(df.level.unique())\n",
    "                                               ,df.level)"
   ]
  },
  {
   "cell_type": "code",
   "execution_count": 3,
   "metadata": {},
   "outputs": [
    {
     "data": {
      "text/plain": [
       "array([0.27149569, 2.85895246, 1.34882908, 8.50014375, 9.26844305])"
      ]
     },
     "execution_count": 3,
     "metadata": {},
     "output_type": "execute_result"
    }
   ],
   "source": [
    "class_weight"
   ]
  },
  {
   "cell_type": "code",
   "execution_count": 25,
   "metadata": {},
   "outputs": [
    {
     "data": {
      "text/plain": [
       "array([65341,  6205, 13152,  2087,  1914])"
      ]
     },
     "execution_count": 25,
     "metadata": {},
     "output_type": "execute_result"
    }
   ],
   "source": [
    "df.level.value_counts().sort_index().values"
   ]
  },
  {
   "cell_type": "markdown",
   "metadata": {},
   "source": [
    "# Balance the Dataset"
   ]
  },
  {
   "cell_type": "code",
   "execution_count": 1,
   "metadata": {},
   "outputs": [],
   "source": [
    "from sklearn.utils import resample\n",
    "\n",
    "n_samples = class_weight * df.level.value_counts().sort_index().values\n",
    "\n",
    "df0 = resample(df_train[df_train.level==0], n_samples=int(n_samples[0]), replace=False, random_state=2019)\n",
    "df1 = resample(df_train[df_train.level==1], n_samples=int(n_samples[1]), replace=False, random_state=2019)\n",
    "df2 = resample(df_train[df_train.level==2], n_samples=int(n_samples[2]), replace=False, random_state=2019)\n",
    "df3 = resample(df_train[df_train.level==3], n_samples=int(n_samples[3]), replace=False, random_state=2019)\n",
    "df4 = resample(df_train[df_train.level==4], n_samples=int(n_samples[4]), replace=False, random_state=2019)\n",
    "                        \n",
    "df_train = pd.concat([df0, df1, df2, df3, df4])"
   ]
  },
  {
   "cell_type": "markdown",
   "metadata": {},
   "source": [
    "# Split Data into Train & Test"
   ]
  },
  {
   "cell_type": "code",
   "execution_count": 2,
   "metadata": {},
   "outputs": [],
   "source": [
    "from sklearn.model_selection import train_test_split\n",
    "df_train, df_test = train_test_split(df, test_size = 0.1, random_state = 1407)"
   ]
  },
  {
   "cell_type": "markdown",
   "metadata": {},
   "source": [
    "# Move Files do Test Dir"
   ]
  },
  {
   "cell_type": "code",
   "execution_count": 30,
   "metadata": {},
   "outputs": [],
   "source": [
    "import shutil\n",
    "\n",
    "for index, row in df_test.iterrows():\n",
    "    shutil.move('../data/train/' + str(row.level) + '/' + row.folder + '_' + row.image + '.jpeg', \n",
    "                '../data/test/' + str(row.level) + '/' + row.folder + '_' + row.image + '.jpeg')"
   ]
  }
 ],
 "metadata": {
  "kernelspec": {
   "display_name": "Python 2",
   "language": "python",
   "name": "python2"
  },
  "language_info": {
   "codemirror_mode": {
    "name": "ipython",
    "version": 2
   },
   "file_extension": ".py",
   "mimetype": "text/x-python",
   "name": "python",
   "nbconvert_exporter": "python",
   "pygments_lexer": "ipython2",
   "version": "2.7.15"
  }
 },
 "nbformat": 4,
 "nbformat_minor": 2
}
