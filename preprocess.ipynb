{
 "cells": [
  {
   "cell_type": "code",
   "execution_count": 11,
   "metadata": {},
   "outputs": [
    {
     "name": "stdout",
     "output_type": "stream",
     "text": [
      "Collecting opencv-python\n",
      "\u001b[33m  Cache entry deserialization failed, entry ignored\u001b[0m\n",
      "  Downloading https://files.pythonhosted.org/packages/e8/04/925d40d1aca43b949453c9350345ac0b4ca122d479d6d254a54ad0d1dd23/opencv_python-4.0.0.21-cp27-cp27mu-manylinux1_x86_64.whl (25.4MB)\n",
      "\u001b[K    100% |████████████████████████████████| 25.4MB 69kB/s \n",
      "\u001b[?25hCollecting numpy>=1.11.1 (from opencv-python)\n",
      "\u001b[33m  Cache entry deserialization failed, entry ignored\u001b[0m\n",
      "\u001b[33m  Cache entry deserialization failed, entry ignored\u001b[0m\n",
      "  Downloading https://files.pythonhosted.org/packages/c4/33/8ec8dcdb4ede5d453047bbdbd01916dbaccdb63e98bba60989718f5f0876/numpy-1.16.2-cp27-cp27mu-manylinux1_x86_64.whl (17.0MB)\n",
      "\u001b[K    100% |████████████████████████████████| 17.0MB 105kB/s \n",
      "\u001b[?25hInstalling collected packages: numpy, opencv-python\n",
      "Successfully installed numpy-1.16.2 opencv-python-4.0.0.21\n"
     ]
    }
   ],
   "source": [
    "! pip2 install opencv-python"
   ]
  },
  {
   "cell_type": "code",
   "execution_count": 1,
   "metadata": {},
   "outputs": [],
   "source": [
    "import cv2, glob, numpy, os\n",
    "import pandas as pd"
   ]
  },
  {
   "cell_type": "code",
   "execution_count": 2,
   "metadata": {},
   "outputs": [],
   "source": [
    "import matplotlib.pyplot as plt"
   ]
  },
  {
   "cell_type": "code",
   "execution_count": 3,
   "metadata": {},
   "outputs": [],
   "source": [
    "scale=300\n",
    "image_size = 540\n",
    "source_dir='/media/carlos_bologna/WD_NTFS/Diabetic_Retinopathy/original_images/'\n",
    "dest_dir='data/'"
   ]
  },
  {
   "cell_type": "code",
   "execution_count": 4,
   "metadata": {},
   "outputs": [],
   "source": [
    "def scaleRadius(img,scale):\n",
    "    x=img[img.shape[0]/2,:,:].sum(1)\n",
    "    r=(x>x.mean()/10).sum() / 2\n",
    "    s=scale * 1.0 / r\n",
    "    return cv2.resize(img,(0,0),fx=s,fy=s)\n"
   ]
  },
  {
   "cell_type": "code",
   "execution_count": 5,
   "metadata": {},
   "outputs": [],
   "source": [
    "def calcRadius(img):\n",
    "    x=img[img.shape[0]/2,:,:].sum(1)\n",
    "    r=(x>x.mean()/10).sum() / 2\n",
    "    return r"
   ]
  },
  {
   "cell_type": "markdown",
   "metadata": {},
   "source": [
    "## Read Targets"
   ]
  },
  {
   "cell_type": "code",
   "execution_count": 6,
   "metadata": {},
   "outputs": [],
   "source": [
    "df_train = pd.read_csv('data/trainLabels.csv')\n",
    "df_test = pd.read_csv('data/testLabels.csv') # Já temos os targets da base de teste, então vamos usar."
   ]
  },
  {
   "cell_type": "code",
   "execution_count": 7,
   "metadata": {
    "scrolled": true
   },
   "outputs": [],
   "source": [
    "df_train['folder'] = 'train'\n",
    "df_test['folder'] = 'test'\n",
    "df = pd.concat([df_train.loc[:, ['folder', 'image', 'level']], df_test.loc[:, ['folder', 'image', 'level']]])"
   ]
  },
  {
   "cell_type": "code",
   "execution_count": 26,
   "metadata": {},
   "outputs": [],
   "source": [
    "tot_lote = len(df) / 5000\n",
    "\n",
    "for index, row in df.iterrows():\n",
    "    try:\n",
    "        a=cv2.imread(os.path.join(source_dir, row.folder, row.image + '.jpeg'))\n",
    "        #scale img to a given radius\n",
    "        a=scaleRadius(a,scale)\n",
    "        \n",
    "        #subtract local mean color\n",
    "        a=cv2.addWeighted(a, 4, cv2.GaussianBlur(a,(0,0),scale/30), -4, 128)\n",
    "        \n",
    "        #remove outer 10%\n",
    "        b=numpy.zeros(a.shape)\n",
    "        cv2.circle(b,(a.shape[1]/2,a.shape[0]/2), int(scale * 0.9),(1,1,1), -1,8,0)\n",
    "        \n",
    "        #a= a * b + 128 * (1 - b)\n",
    "        a = a * b\n",
    "        # Crop image removing black border\n",
    "        #r = calcRadius(a)\n",
    "        r = image_size / 2\n",
    "        \n",
    "        x_half = a.shape[0] / 2\n",
    "        y_half = a.shape[1] / 2\n",
    "        a = a[x_half - r:x_half + r, y_half - r:y_half + r, :]\n",
    "        \n",
    "        cv2.imwrite(os.path.join(dest_dir, str(row.level), row.folder + '_' + row.image + '.jpeg'), a)\n",
    "        \n",
    "        if (index % 5000 == 0):\n",
    "            print 'Lote: ' + str(index) + '/' + str(tot_lote)\n",
    "            \n",
    "    except:\n",
    "        print 'Error in ' + row.image\n",
    "        "
   ]
  },
  {
   "cell_type": "code",
   "execution_count": 30,
   "metadata": {},
   "outputs": [
    {
     "data": {
      "text/plain": [
       "1"
      ]
     },
     "execution_count": 30,
     "metadata": {},
     "output_type": "execute_result"
    }
   ],
   "source": [
    "101 % 100"
   ]
  }
 ],
 "metadata": {
  "kernelspec": {
   "display_name": "Python 2",
   "language": "python",
   "name": "python2"
  },
  "language_info": {
   "codemirror_mode": {
    "name": "ipython",
    "version": 2
   },
   "file_extension": ".py",
   "mimetype": "text/x-python",
   "name": "python",
   "nbconvert_exporter": "python",
   "pygments_lexer": "ipython2",
   "version": "2.7.15"
  }
 },
 "nbformat": 4,
 "nbformat_minor": 2
}
