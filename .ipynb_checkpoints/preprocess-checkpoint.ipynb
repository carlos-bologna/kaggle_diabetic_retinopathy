{
 "cells": [
  {
   "cell_type": "code",
   "execution_count": null,
   "metadata": {},
   "outputs": [],
   "source": [
    "#! pip2 install opencv-python"
   ]
  },
  {
   "cell_type": "code",
   "execution_count": 1,
   "metadata": {},
   "outputs": [],
   "source": [
    "import cv2, glob, numpy, os\n",
    "import pandas as pd\n",
    "import matplotlib.pyplot as plt"
   ]
  },
  {
   "cell_type": "code",
   "execution_count": 2,
   "metadata": {},
   "outputs": [],
   "source": [
    "scale=300\n",
    "image_size = 540\n",
    "source_dir='/media/carlos_bologna/WD_NTFS/Diabetic_Retinopathy/original_images/'\n",
    "dest_dir='data/'"
   ]
  },
  {
   "cell_type": "code",
   "execution_count": 3,
   "metadata": {},
   "outputs": [],
   "source": [
    "def scaleRadius(img,scale):\n",
    "    x=img[img.shape[0]/2,:,:].sum(1)\n",
    "    r=(x>x.mean()/10).sum() / 2\n",
    "    s=scale * 1.0 / r\n",
    "    return cv2.resize(img,(0,0),fx=s,fy=s)\n"
   ]
  },
  {
   "cell_type": "code",
   "execution_count": 4,
   "metadata": {},
   "outputs": [],
   "source": [
    "df_train = pd.read_csv('data/trainLabels.csv')\n",
    "df_test = pd.read_csv('data/testLabels.csv') # Já temos os targets da base de teste, então vamos usar.\n",
    "\n",
    "df_train['folder'] = 'train'\n",
    "df_test['folder'] = 'test'\n",
    "df = pd.concat([df_train.loc[:, ['folder', 'image', 'level']], df_test.loc[:, ['folder', 'image', 'level']]])\n",
    "\n",
    "tot_lote = len(df) / 5000\n"
   ]
  },
  {
   "cell_type": "code",
   "execution_count": null,
   "metadata": {},
   "outputs": [],
   "source": [
    "i=1\n",
    "for index, row in df.iterrows():\n",
    "    try:\n",
    "        a=cv2.imread(os.path.join(source_dir, row.folder, row.image + '.jpeg'))\n",
    "        #scale img to a given radius\n",
    "        a=scaleRadius(a,scale)\n",
    "\n",
    "        #subtract local mean color\n",
    "        a=cv2.addWeighted(a, 4, cv2.GaussianBlur(a,(0,0),scale/30), -4, 128)\n",
    "\n",
    "        #remove outer 10%\n",
    "        b=numpy.zeros(a.shape)\n",
    "        cv2.circle(b,(a.shape[1]/2,a.shape[0]/2), int(scale * 0.9),(1,1,1), -1,8,0)\n",
    "\n",
    "        #a= a * b + 128 * (1 - b)\n",
    "        a = a * b\n",
    "        # Crop image removing black border\n",
    "        #r = calcRadius(a)\n",
    "        r = image_size / 2\n",
    "\n",
    "        h_half = a.shape[0] / 2\n",
    "        w_half = a.shape[1] / 2\n",
    "\n",
    "        if (r > h_half) | (r > w_half):\n",
    "    \n",
    "            #Calc max padding to apply (toward h or w)\n",
    "            pad = max(r - h_half, r - w_half)\n",
    "\n",
    "            #Add padding\n",
    "            a = numpy.pad(a, ((pad,pad), (pad,pad), (0, 0)), 'constant')\n",
    "            h_half = a.shape[0] / 2\n",
    "            w_half = a.shape[1] / 2\n",
    "\n",
    "        a = a[h_half -  r : h_half +  r, w_half -  r : w_half +  r, :]\n",
    "\n",
    "        cv2.imwrite(os.path.join(dest_dir, str(row.level), row.folder + '_' + row.image + '.jpeg'), a)\n",
    "\n",
    "        if (index % 5000 == 0):\n",
    "            print 'Lote: ' + str(i) + '/' + str(tot_lote)\n",
    "            i+=1\n",
    "\n",
    "    except:\n",
    "        print 'Error in ' + row.image\n"
   ]
  }
 ],
 "metadata": {
  "kernelspec": {
   "display_name": "Python 2",
   "language": "python",
   "name": "python2"
  },
  "language_info": {
   "codemirror_mode": {
    "name": "ipython",
    "version": 2
   },
   "file_extension": ".py",
   "mimetype": "text/x-python",
   "name": "python",
   "nbconvert_exporter": "python",
   "pygments_lexer": "ipython2",
   "version": "2.7.15"
  }
 },
 "nbformat": 4,
 "nbformat_minor": 2
}
